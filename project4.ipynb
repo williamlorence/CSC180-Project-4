{
 "cells": [
  {
   "cell_type": "markdown",
   "id": "ec575970-aefa-472b-ad80-c053eb8c9c64",
   "metadata": {},
   "source": [
    "#### CSC 180 Intelligent Systems \n",
    "\n",
    "#### William Lorence, Ajaydeep Singh, Romin Akoliya, Abdurraziq Paikur\n",
    "\n",
    "#### California State University, Sacramento\n",
    "\n",
    "# Project 4: Time Series Forecasting\n",
    "\n",
    "## Creating the Dataframe"
   ]
  },
  {
   "cell_type": "code",
   "execution_count": 326,
   "id": "ab219583-9a83-4a42-ab9e-8bcf1457c7f9",
   "metadata": {},
   "outputs": [
    {
     "name": "stdout",
     "output_type": "stream",
     "text": [
      "./AAPL.csv\n",
      "         Date      Open      High       Low     Close  Adj Close       Volume\n",
      "0  1980-12-12  0.513393  0.515625  0.513393  0.513393   0.023186  117258400.0\n",
      "1  1980-12-15  0.488839  0.488839  0.486607  0.486607   0.021977   43971200.0\n",
      "2  1980-12-16  0.453125  0.453125  0.450893  0.450893   0.020364   26432000.0\n",
      "3  1980-12-17  0.462054  0.464286  0.462054  0.462054   0.020868   21610400.0\n",
      "4  1980-12-18  0.475446  0.477679  0.475446  0.475446   0.021473   18362400.0\n"
     ]
    }
   ],
   "source": [
    "import csv\n",
    "import pandas as pd\n",
    "import tensorflow as tf\n",
    "import numpy as np\n",
    "from tensorflow.keras import Sequential\n",
    "from tensorflow.keras.layers import Dense\n",
    "from tensorflow.keras.callbacks import EarlyStopping, ModelCheckpoint\n",
    "\n",
    "#load data\n",
    "AAPL_path = \"./AAPL.csv\"\n",
    "\n",
    "df = pd.read_csv(AAPL_path)\n",
    "\n",
    "print(AAPL_path)\n",
    "print(df.head())"
   ]
  },
  {
   "cell_type": "code",
   "execution_count": 327,
   "id": "413f3261-9135-46cd-a382-1f1932d286a8",
   "metadata": {},
   "outputs": [
    {
     "name": "stdout",
     "output_type": "stream",
     "text": [
      "First 5 rows of the filtered data:\n",
      "       Open      High       Low     Close       Volume\n",
      "0  0.513393  0.515625  0.513393  0.513393  117258400.0\n",
      "1  0.488839  0.488839  0.486607  0.486607   43971200.0\n",
      "2  0.453125  0.453125  0.450893  0.450893   26432000.0\n",
      "3  0.462054  0.464286  0.462054  0.462054   21610400.0\n",
      "4  0.475446  0.477679  0.475446  0.475446   18362400.0\n"
     ]
    }
   ],
   "source": [
    "# filter out dropping Date and Adj Close \n",
    "\n",
    "df_filtered = df.drop(columns=['Date', 'Adj Close'])\n",
    "print(\"First 5 rows of the filtered data:\")\n",
    "print(df_filtered.head())"
   ]
  },
  {
   "cell_type": "code",
   "execution_count": 328,
   "id": "fb654dce",
   "metadata": {},
   "outputs": [],
   "source": [
    "# drop rows with NaN values\n",
    "\n",
    "df_filtered = df_filtered.dropna()"
   ]
  },
  {
   "cell_type": "code",
   "execution_count": 329,
   "id": "dc5ea4f7",
   "metadata": {},
   "outputs": [
    {
     "data": {
      "text/plain": [
       "[0.513393, 0.486607, 0.450893, 0.462054, 0.475446]"
      ]
     },
     "execution_count": 329,
     "metadata": {},
     "output_type": "execute_result"
    }
   ],
   "source": [
    "close = df_filtered['Close'].tolist()\n",
    "close[0:5]"
   ]
  },
  {
   "cell_type": "markdown",
   "id": "c6cf9470-655b-4551-b9d5-92c05ae1aa3b",
   "metadata": {},
   "source": [
    "## Normalizing Input Features"
   ]
  },
  {
   "cell_type": "code",
   "execution_count": 330,
   "id": "36d8e524",
   "metadata": {},
   "outputs": [
    {
     "name": "stdout",
     "output_type": "stream",
     "text": [
      "Sample of scaled data (first 5 rows):\n"
     ]
    },
    {
     "data": {
      "text/html": [
       "<div>\n",
       "<style scoped>\n",
       "    .dataframe tbody tr th:only-of-type {\n",
       "        vertical-align: middle;\n",
       "    }\n",
       "\n",
       "    .dataframe tbody tr th {\n",
       "        vertical-align: top;\n",
       "    }\n",
       "\n",
       "    .dataframe thead th {\n",
       "        text-align: right;\n",
       "    }\n",
       "</style>\n",
       "<table border=\"1\" class=\"dataframe\">\n",
       "  <thead>\n",
       "    <tr style=\"text-align: right;\">\n",
       "      <th></th>\n",
       "      <th>Open</th>\n",
       "      <th>High</th>\n",
       "      <th>Low</th>\n",
       "      <th>Close</th>\n",
       "      <th>Volume</th>\n",
       "    </tr>\n",
       "  </thead>\n",
       "  <tbody>\n",
       "    <tr>\n",
       "      <th>0</th>\n",
       "      <td>-0.547665</td>\n",
       "      <td>-0.548357</td>\n",
       "      <td>-0.546670</td>\n",
       "      <td>-0.547549</td>\n",
       "      <td>0.339526</td>\n",
       "    </tr>\n",
       "    <tr>\n",
       "      <th>1</th>\n",
       "      <td>-0.548200</td>\n",
       "      <td>-0.548935</td>\n",
       "      <td>-0.547258</td>\n",
       "      <td>-0.548132</td>\n",
       "      <td>-0.503884</td>\n",
       "    </tr>\n",
       "    <tr>\n",
       "      <th>2</th>\n",
       "      <td>-0.548977</td>\n",
       "      <td>-0.549706</td>\n",
       "      <td>-0.548042</td>\n",
       "      <td>-0.548909</td>\n",
       "      <td>-0.705730</td>\n",
       "    </tr>\n",
       "    <tr>\n",
       "      <th>3</th>\n",
       "      <td>-0.548782</td>\n",
       "      <td>-0.549465</td>\n",
       "      <td>-0.547797</td>\n",
       "      <td>-0.548666</td>\n",
       "      <td>-0.761218</td>\n",
       "    </tr>\n",
       "    <tr>\n",
       "      <th>4</th>\n",
       "      <td>-0.548491</td>\n",
       "      <td>-0.549176</td>\n",
       "      <td>-0.547503</td>\n",
       "      <td>-0.548374</td>\n",
       "      <td>-0.798597</td>\n",
       "    </tr>\n",
       "  </tbody>\n",
       "</table>\n",
       "</div>"
      ],
      "text/plain": [
       "       Open      High       Low     Close    Volume\n",
       "0 -0.547665 -0.548357 -0.546670 -0.547549  0.339526\n",
       "1 -0.548200 -0.548935 -0.547258 -0.548132 -0.503884\n",
       "2 -0.548977 -0.549706 -0.548042 -0.548909 -0.705730\n",
       "3 -0.548782 -0.549465 -0.547797 -0.548666 -0.761218\n",
       "4 -0.548491 -0.549176 -0.547503 -0.548374 -0.798597"
      ]
     },
     "execution_count": 330,
     "metadata": {},
     "output_type": "execute_result"
    }
   ],
   "source": [
    "df_scaled = (df_filtered - df_filtered.mean()) / df_filtered.std()\n",
    "\n",
    "# Confirm the normalization\n",
    "print(\"Sample of scaled data (first 5 rows):\")\n",
    "df_scaled[0:5]"
   ]
  },
  {
   "cell_type": "markdown",
   "id": "b65b06b2",
   "metadata": {},
   "source": [
    "## Creating Windows to Send Data Properly"
   ]
  },
  {
   "cell_type": "code",
   "execution_count": 331,
   "id": "d70c3595",
   "metadata": {},
   "outputs": [],
   "source": [
    "def to_sequences(SEQUENCE_SIZE, data, output):\n",
    "    x = []\n",
    "    y = []\n",
    "\n",
    "    for i in range(len(data)-SEQUENCE_SIZE-1):\n",
    "        #print(i)\n",
    "        window = data.iloc[i:i + SEQUENCE_SIZE].values.flatten()\n",
    "        after_window = output[i+SEQUENCE_SIZE]\n",
    "        window = [[x] for x in window]\n",
    "        #print(\"{} - {}\".format(window,after_window))\n",
    "        x.append(window)\n",
    "        y.append(after_window)\n",
    "        \n",
    "    return np.array(x),np.array(y)"
   ]
  },
  {
   "cell_type": "code",
   "execution_count": 332,
   "id": "87abab80",
   "metadata": {},
   "outputs": [
    {
     "name": "stdout",
     "output_type": "stream",
     "text": [
      "Shape of X: (9547, 35, 1)\n",
      "Shape of y: (9547,)\n"
     ]
    },
    {
     "data": {
      "text/plain": [
       "array([[[-0.54766515],\n",
       "        [-0.54835724],\n",
       "        [-0.54667033],\n",
       "        [-0.54754873],\n",
       "        [ 0.33952598],\n",
       "        [-0.54819953],\n",
       "        [-0.54893537],\n",
       "        [-0.54725828],\n",
       "        [-0.5481316 ],\n",
       "        [-0.50388387],\n",
       "        [-0.5489768 ],\n",
       "        [-0.54970621],\n",
       "        [-0.5480422 ],\n",
       "        [-0.54890874],\n",
       "        [-0.70572994],\n",
       "        [-0.54878248],\n",
       "        [-0.54946531],\n",
       "        [-0.54779722],\n",
       "        [-0.54866587],\n",
       "        [-0.76121828],\n",
       "        [-0.54849102],\n",
       "        [-0.54917625],\n",
       "        [-0.54750326],\n",
       "        [-0.54837446],\n",
       "        [-0.79859718],\n",
       "        [-0.54785948],\n",
       "        [-0.54854996],\n",
       "        [-0.54686632],\n",
       "        [-0.54774303],\n",
       "        [-0.87000378],\n",
       "        [-0.54732509],\n",
       "        [-0.54801999],\n",
       "        [-0.54632737],\n",
       "        [-0.54720873],\n",
       "        [-0.90242031]],\n",
       "\n",
       "       [[-0.54819953],\n",
       "        [-0.54893537],\n",
       "        [-0.54725828],\n",
       "        [-0.5481316 ],\n",
       "        [-0.50388387],\n",
       "        [-0.5489768 ],\n",
       "        [-0.54970621],\n",
       "        [-0.5480422 ],\n",
       "        [-0.54890874],\n",
       "        [-0.70572994],\n",
       "        [-0.54878248],\n",
       "        [-0.54946531],\n",
       "        [-0.54779722],\n",
       "        [-0.54866587],\n",
       "        [-0.76121828],\n",
       "        [-0.54849102],\n",
       "        [-0.54917625],\n",
       "        [-0.54750326],\n",
       "        [-0.54837446],\n",
       "        [-0.79859718],\n",
       "        [-0.54785948],\n",
       "        [-0.54854996],\n",
       "        [-0.54686632],\n",
       "        [-0.54774303],\n",
       "        [-0.87000378],\n",
       "        [-0.54732509],\n",
       "        [-0.54801999],\n",
       "        [-0.54632737],\n",
       "        [-0.54720873],\n",
       "        [-0.90242031],\n",
       "        [-0.5468393 ],\n",
       "        [-0.54753823],\n",
       "        [-0.54583743],\n",
       "        [-0.54672302],\n",
       "        [-0.87483726]],\n",
       "\n",
       "       [[-0.5489768 ],\n",
       "        [-0.54970621],\n",
       "        [-0.5480422 ],\n",
       "        [-0.54890874],\n",
       "        [-0.70572994],\n",
       "        [-0.54878248],\n",
       "        [-0.54946531],\n",
       "        [-0.54779722],\n",
       "        [-0.54866587],\n",
       "        [-0.76121828],\n",
       "        [-0.54849102],\n",
       "        [-0.54917625],\n",
       "        [-0.54750326],\n",
       "        [-0.54837446],\n",
       "        [-0.79859718],\n",
       "        [-0.54785948],\n",
       "        [-0.54854996],\n",
       "        [-0.54686632],\n",
       "        [-0.54774303],\n",
       "        [-0.87000378],\n",
       "        [-0.54732509],\n",
       "        [-0.54801999],\n",
       "        [-0.54632737],\n",
       "        [-0.54720873],\n",
       "        [-0.90242031],\n",
       "        [-0.5468393 ],\n",
       "        [-0.54753823],\n",
       "        [-0.54583743],\n",
       "        [-0.54672302],\n",
       "        [-0.87483726],\n",
       "        [-0.54620776],\n",
       "        [-0.54691192],\n",
       "        [-0.54520049],\n",
       "        [-0.54609159],\n",
       "        [-0.87180828]],\n",
       "\n",
       "       [[-0.54878248],\n",
       "        [-0.54946531],\n",
       "        [-0.54779722],\n",
       "        [-0.54866587],\n",
       "        [-0.76121828],\n",
       "        [-0.54849102],\n",
       "        [-0.54917625],\n",
       "        [-0.54750326],\n",
       "        [-0.54837446],\n",
       "        [-0.79859718],\n",
       "        [-0.54785948],\n",
       "        [-0.54854996],\n",
       "        [-0.54686632],\n",
       "        [-0.54774303],\n",
       "        [-0.87000378],\n",
       "        [-0.54732509],\n",
       "        [-0.54801999],\n",
       "        [-0.54632737],\n",
       "        [-0.54720873],\n",
       "        [-0.90242031],\n",
       "        [-0.5468393 ],\n",
       "        [-0.54753823],\n",
       "        [-0.54583743],\n",
       "        [-0.54672302],\n",
       "        [-0.87483726],\n",
       "        [-0.54620776],\n",
       "        [-0.54691192],\n",
       "        [-0.54520049],\n",
       "        [-0.54609159],\n",
       "        [-0.87180828],\n",
       "        [-0.54504184],\n",
       "        [-0.54575564],\n",
       "        [-0.54402459],\n",
       "        [-0.54492585],\n",
       "        [-0.8500254 ]],\n",
       "\n",
       "       [[-0.54849102],\n",
       "        [-0.54917625],\n",
       "        [-0.54750326],\n",
       "        [-0.54837446],\n",
       "        [-0.79859718],\n",
       "        [-0.54785948],\n",
       "        [-0.54854996],\n",
       "        [-0.54686632],\n",
       "        [-0.54774303],\n",
       "        [-0.87000378],\n",
       "        [-0.54732509],\n",
       "        [-0.54801999],\n",
       "        [-0.54632737],\n",
       "        [-0.54720873],\n",
       "        [-0.90242031],\n",
       "        [-0.5468393 ],\n",
       "        [-0.54753823],\n",
       "        [-0.54583743],\n",
       "        [-0.54672302],\n",
       "        [-0.87483726],\n",
       "        [-0.54620776],\n",
       "        [-0.54691192],\n",
       "        [-0.54520049],\n",
       "        [-0.54609159],\n",
       "        [-0.87180828],\n",
       "        [-0.54504184],\n",
       "        [-0.54575564],\n",
       "        [-0.54402459],\n",
       "        [-0.54492585],\n",
       "        [-0.8500254 ],\n",
       "        [-0.54484753],\n",
       "        [-0.54556295],\n",
       "        [-0.54382862],\n",
       "        [-0.54473158],\n",
       "        [-0.74188437]]])"
      ]
     },
     "execution_count": 332,
     "metadata": {},
     "output_type": "execute_result"
    }
   ],
   "source": [
    "SEQUENCE_SIZE = 7\n",
    "X,y = to_sequences(SEQUENCE_SIZE, df_scaled, close)\n",
    "\n",
    "print(\"Shape of X: {}\".format(X.shape))\n",
    "print(\"Shape of y: {}\".format(y.shape))\n",
    "\n",
    "X[0:5]"
   ]
  },
  {
   "cell_type": "code",
   "execution_count": 333,
   "id": "18bfda13",
   "metadata": {},
   "outputs": [
    {
     "data": {
      "text/plain": [
       "array([0.551339, 0.580357, 0.633929, 0.642857, 0.627232])"
      ]
     },
     "execution_count": 333,
     "metadata": {},
     "output_type": "execute_result"
    }
   ],
   "source": [
    "y[0:5]"
   ]
  },
  {
   "cell_type": "markdown",
   "id": "ff05719d-7149-4c9c-951c-94e381216d43",
   "metadata": {},
   "source": [
    "## Data Splitting and Preparation"
   ]
  },
  {
   "cell_type": "code",
   "execution_count": 334,
   "id": "4b343133",
   "metadata": {},
   "outputs": [
    {
     "name": "stdout",
     "output_type": "stream",
     "text": [
      "Training set has 6682 records.\n",
      "Test set has 2807 records.\n",
      "\n",
      "Shape of X_train: (6682, 35, 1)\n",
      "Shape of y_train: (6682,)\n",
      "Shape of X_test: (2807, 35, 1)\n",
      "Shape of y_test: (2807,)\n"
     ]
    }
   ],
   "source": [
    "from sklearn.model_selection import train_test_split\n",
    "\n",
    "X_train, X_test, y_train, y_test = train_test_split(X, y, test_size=0.3, random_state=666)\n",
    "X_test, X_test_dummy, y_test, y_test_dummy = train_test_split(X_test, y_test, test_size=0.02, random_state=305)\n",
    "\n",
    "print(\"Training set has {} records.\".format(len(X_train)))\n",
    "print(\"Test set has {} records.\".format(len(X_test)))\n",
    "print(\"\")\n",
    "print(\"Shape of X_train: {}\".format(X_train.shape))\n",
    "print(\"Shape of y_train: {}\".format(y_train.shape))\n",
    "print(\"Shape of X_test: {}\".format(X_test.shape))\n",
    "print(\"Shape of y_test: {}\".format(y_test.shape))"
   ]
  },
  {
   "cell_type": "code",
   "execution_count": 335,
   "id": "08c81c15",
   "metadata": {},
   "outputs": [
    {
     "data": {
      "text/plain": [
       "array([[[ 0.20531664],\n",
       "        [ 0.20836347],\n",
       "        [ 0.21190394],\n",
       "        [ 0.21506875],\n",
       "        [ 0.07411965],\n",
       "        [ 0.21399103],\n",
       "        [ 0.21486939],\n",
       "        [ 0.20889369],\n",
       "        [ 0.21034367],\n",
       "        [ 1.14945592],\n",
       "        [ 0.20920308],\n",
       "        [ 0.20484844],\n",
       "        [ 0.20017643],\n",
       "        [ 0.20931786],\n",
       "        [ 0.62116473],\n",
       "        [ 0.21389779],\n",
       "        [ 0.20904182],\n",
       "        [ 0.20390794],\n",
       "        [ 0.20160856],\n",
       "        [ 1.11430042],\n",
       "        [ 0.24579718],\n",
       "        [ 0.24295877],\n",
       "        [ 0.24395066],\n",
       "        [ 0.24708716],\n",
       "        [ 1.81649212],\n",
       "        [ 0.24405612],\n",
       "        [ 0.26300066],\n",
       "        [ 0.24542442],\n",
       "        [ 0.26962437],\n",
       "        [ 1.27282241],\n",
       "        [ 0.27436984],\n",
       "        [ 0.27974333],\n",
       "        [ 0.27928991],\n",
       "        [ 0.2831778 ],\n",
       "        [ 1.28298077]],\n",
       "\n",
       "       [[ 3.25220586],\n",
       "        [ 3.24137464],\n",
       "        [ 3.24245387],\n",
       "        [ 3.2684452 ],\n",
       "        [-0.67062278],\n",
       "        [ 3.25220586],\n",
       "        [ 3.22583447],\n",
       "        [ 3.26725728],\n",
       "        [ 3.24211533],\n",
       "        [-0.72053535],\n",
       "        [ 3.21716626],\n",
       "        [ 3.20684085],\n",
       "        [ 3.24816072],\n",
       "        [ 3.22688333],\n",
       "        [-0.81448207],\n",
       "        [ 3.2071548 ],\n",
       "        [ 3.18482556],\n",
       "        [ 3.19943208],\n",
       "        [ 3.16965418],\n",
       "        [-0.72471286],\n",
       "        [ 3.14034036],\n",
       "        [ 3.11662182],\n",
       "        [ 3.13797282],\n",
       "        [ 3.12047649],\n",
       "        [-0.67435721],\n",
       "        [ 3.16667428],\n",
       "        [ 3.15007604],\n",
       "        [ 3.18011645],\n",
       "        [ 3.16443197],\n",
       "        [-0.73788984],\n",
       "        [ 3.16362736],\n",
       "        [ 3.13971603],\n",
       "        [ 3.16562947],\n",
       "        [ 3.14375962],\n",
       "        [-0.75789124]],\n",
       "\n",
       "       [[-0.55023988],\n",
       "        [-0.55091066],\n",
       "        [-0.54926709],\n",
       "        [-0.55012304],\n",
       "        [-0.8526677 ],\n",
       "        [-0.55023988],\n",
       "        [-0.55095883],\n",
       "        [-0.54931608],\n",
       "        [-0.5501716 ],\n",
       "        [-0.80491293],\n",
       "        [-0.55062852],\n",
       "        [-0.55134425],\n",
       "        [-0.54975703],\n",
       "        [-0.55060874],\n",
       "        [-0.90680267],\n",
       "        [-0.55077425],\n",
       "        [-0.55148877],\n",
       "        [-0.54985501],\n",
       "        [-0.55070588],\n",
       "        [-0.81980005],\n",
       "        [-0.55135721],\n",
       "        [-0.55206691],\n",
       "        [-0.55049195],\n",
       "        [-0.55133731],\n",
       "        [-0.80839304],\n",
       "        [-0.5511143 ],\n",
       "        [-0.55177784],\n",
       "        [-0.55014899],\n",
       "        [-0.55099731],\n",
       "        [-0.84706087],\n",
       "        [-0.55155154],\n",
       "        [-0.55225963],\n",
       "        [-0.55063895],\n",
       "        [-0.55148304],\n",
       "        [-0.91402066]],\n",
       "\n",
       "       [[-0.54402166],\n",
       "        [-0.54459939],\n",
       "        [-0.54333866],\n",
       "        [-0.54390585],\n",
       "        [-0.31492706],\n",
       "        [-0.54426457],\n",
       "        [-0.54479209],\n",
       "        [-0.54338767],\n",
       "        [-0.54402734],\n",
       "        [-0.4626704 ],\n",
       "        [-0.54431314],\n",
       "        [-0.54426215],\n",
       "        [-0.54333866],\n",
       "        [-0.54376014],\n",
       "        [-0.06126609],\n",
       "        [-0.54377878],\n",
       "        [-0.54431032],\n",
       "        [-0.54284872],\n",
       "        [-0.54356585],\n",
       "        [-0.33909446],\n",
       "        [-0.5437302 ],\n",
       "        [-0.54440667],\n",
       "        [-0.54319168],\n",
       "        [-0.54361444],\n",
       "        [-0.58859864],\n",
       "        [-0.54392451],\n",
       "        [-0.54431032],\n",
       "        [-0.54304471],\n",
       "        [-0.54385728],\n",
       "        [-0.68700827],\n",
       "        [-0.54392451],\n",
       "        [-0.54455122],\n",
       "        [-0.54333866],\n",
       "        [-0.54380871],\n",
       "        [-0.57512934]],\n",
       "\n",
       "       [[-0.54407026],\n",
       "        [-0.54474392],\n",
       "        [-0.54343666],\n",
       "        [-0.54405158],\n",
       "        [-0.67334564],\n",
       "        [-0.54416741],\n",
       "        [-0.54493663],\n",
       "        [-0.54373064],\n",
       "        [-0.54453728],\n",
       "        [-0.78100332],\n",
       "        [-0.54455605],\n",
       "        [-0.54493663],\n",
       "        [-0.54382862],\n",
       "        [-0.54414871],\n",
       "        [-0.68665381],\n",
       "        [-0.54397309],\n",
       "        [-0.54464757],\n",
       "        [-0.54373064],\n",
       "        [-0.54439158],\n",
       "        [-0.61850176],\n",
       "        [-0.54436172],\n",
       "        [-0.54484029],\n",
       "        [-0.54353465],\n",
       "        [-0.54429444],\n",
       "        [-0.76186275],\n",
       "        [-0.5446532 ],\n",
       "        [-0.54474392],\n",
       "        [-0.54373064],\n",
       "        [-0.54395444],\n",
       "        [-0.37850342],\n",
       "        [-0.54397309],\n",
       "        [-0.54474392],\n",
       "        [-0.54353465],\n",
       "        [-0.54444015],\n",
       "        [-0.60297018]]])"
      ]
     },
     "execution_count": 335,
     "metadata": {},
     "output_type": "execute_result"
    }
   ],
   "source": [
    "X_train[0:5]"
   ]
  },
  {
   "cell_type": "code",
   "execution_count": 336,
   "id": "4cebb270",
   "metadata": {},
   "outputs": [
    {
     "data": {
      "text/plain": [
       "array([ 38.5     , 169.979996,   0.321429,   0.660714,   0.642857])"
      ]
     },
     "execution_count": 336,
     "metadata": {},
     "output_type": "execute_result"
    }
   ],
   "source": [
    "y_train[0:5]"
   ]
  },
  {
   "cell_type": "markdown",
   "id": "9281cac3-85f4-4829-982a-4d07ea293182",
   "metadata": {},
   "source": [
    "## Build the Fully-Connected Neural Network (FCNN)"
   ]
  },
  {
   "cell_type": "code",
   "execution_count": 337,
   "id": "efe7c01c-ff49-45b1-b3e3-91826f59fbcb",
   "metadata": {},
   "outputs": [
    {
     "name": "stderr",
     "output_type": "stream",
     "text": [
      "c:\\Users\\legow\\anaconda3\\Lib\\site-packages\\keras\\src\\layers\\core\\dense.py:87: UserWarning: Do not pass an `input_shape`/`input_dim` argument to a layer. When using Sequential models, prefer using an `Input(shape)` object as the first layer in the model instead.\n",
      "  super().__init__(activity_regularizer=activity_regularizer, **kwargs)\n"
     ]
    }
   ],
   "source": [
    "# Define the FCNN model\n",
    "model = Sequential([\n",
    "    Dense(64, activation='relu', input_shape=(X_train.shape[1],)),\n",
    "    Dense(32, activation='relu'),\n",
    "    Dense(1)  # Output layer with a single neuron for regression\n",
    "])\n",
    "\n",
    "# Compile the model\n",
    "model.compile(optimizer='adam', loss='mean_squared_error', metrics=['mse'])"
   ]
  },
  {
   "cell_type": "markdown",
   "id": "d025b020-c532-4b41-8af3-f28094573d6c",
   "metadata": {},
   "source": [
    "## Set Up Callbacks and Train the Model\n"
   ]
  },
  {
   "cell_type": "code",
   "execution_count": 338,
   "id": "1656c862-f8d6-4b20-994a-a29891c5bbc1",
   "metadata": {},
   "outputs": [
    {
     "name": "stdout",
     "output_type": "stream",
     "text": [
      "Epoch 1/100\n"
     ]
    },
    {
     "name": "stdout",
     "output_type": "stream",
     "text": [
      "\u001b[1m209/209\u001b[0m \u001b[32m━━━━━━━━━━━━━━━━━━━━\u001b[0m\u001b[37m\u001b[0m \u001b[1m1s\u001b[0m 1ms/step - loss: 1730.6216 - mse: 1730.6216 - val_loss: 42.7933 - val_mse: 42.7933\n",
      "Epoch 2/100\n",
      "\u001b[1m209/209\u001b[0m \u001b[32m━━━━━━━━━━━━━━━━━━━━\u001b[0m\u001b[37m\u001b[0m \u001b[1m0s\u001b[0m 612us/step - loss: 38.2036 - mse: 38.2036 - val_loss: 27.6891 - val_mse: 27.6891\n",
      "Epoch 3/100\n",
      "\u001b[1m209/209\u001b[0m \u001b[32m━━━━━━━━━━━━━━━━━━━━\u001b[0m\u001b[37m\u001b[0m \u001b[1m0s\u001b[0m 614us/step - loss: 24.2509 - mse: 24.2509 - val_loss: 16.5514 - val_mse: 16.5514\n",
      "Epoch 4/100\n",
      "\u001b[1m209/209\u001b[0m \u001b[32m━━━━━━━━━━━━━━━━━━━━\u001b[0m\u001b[37m\u001b[0m \u001b[1m0s\u001b[0m 595us/step - loss: 14.1672 - mse: 14.1672 - val_loss: 7.1397 - val_mse: 7.1397\n",
      "Epoch 5/100\n",
      "\u001b[1m209/209\u001b[0m \u001b[32m━━━━━━━━━━━━━━━━━━━━\u001b[0m\u001b[37m\u001b[0m \u001b[1m0s\u001b[0m 667us/step - loss: 6.6331 - mse: 6.6331 - val_loss: 3.2383 - val_mse: 3.2383\n",
      "Epoch 6/100\n",
      "\u001b[1m209/209\u001b[0m \u001b[32m━━━━━━━━━━━━━━━━━━━━\u001b[0m\u001b[37m\u001b[0m \u001b[1m0s\u001b[0m 720us/step - loss: 2.6430 - mse: 2.6430 - val_loss: 1.9591 - val_mse: 1.9591\n",
      "Epoch 7/100\n",
      "\u001b[1m209/209\u001b[0m \u001b[32m━━━━━━━━━━━━━━━━━━━━\u001b[0m\u001b[37m\u001b[0m \u001b[1m0s\u001b[0m 658us/step - loss: 2.1854 - mse: 2.1854 - val_loss: 1.6600 - val_mse: 1.6600\n",
      "Epoch 8/100\n",
      "\u001b[1m209/209\u001b[0m \u001b[32m━━━━━━━━━━━━━━━━━━━━\u001b[0m\u001b[37m\u001b[0m \u001b[1m0s\u001b[0m 639us/step - loss: 2.0449 - mse: 2.0449 - val_loss: 1.6373 - val_mse: 1.6373\n",
      "Epoch 9/100\n",
      "\u001b[1m209/209\u001b[0m \u001b[32m━━━━━━━━━━━━━━━━━━━━\u001b[0m\u001b[37m\u001b[0m \u001b[1m0s\u001b[0m 593us/step - loss: 1.9954 - mse: 1.9954 - val_loss: 2.2491 - val_mse: 2.2491\n",
      "Epoch 10/100\n",
      "\u001b[1m209/209\u001b[0m \u001b[32m━━━━━━━━━━━━━━━━━━━━\u001b[0m\u001b[37m\u001b[0m \u001b[1m0s\u001b[0m 611us/step - loss: 1.9705 - mse: 1.9705 - val_loss: 1.5318 - val_mse: 1.5318\n",
      "Epoch 11/100\n",
      "\u001b[1m209/209\u001b[0m \u001b[32m━━━━━━━━━━━━━━━━━━━━\u001b[0m\u001b[37m\u001b[0m \u001b[1m0s\u001b[0m 615us/step - loss: 1.9545 - mse: 1.9545 - val_loss: 1.5115 - val_mse: 1.5115\n",
      "Epoch 12/100\n",
      "\u001b[1m209/209\u001b[0m \u001b[32m━━━━━━━━━━━━━━━━━━━━\u001b[0m\u001b[37m\u001b[0m \u001b[1m0s\u001b[0m 601us/step - loss: 1.6007 - mse: 1.6007 - val_loss: 1.5705 - val_mse: 1.5705\n",
      "Epoch 13/100\n",
      "\u001b[1m209/209\u001b[0m \u001b[32m━━━━━━━━━━━━━━━━━━━━\u001b[0m\u001b[37m\u001b[0m \u001b[1m0s\u001b[0m 667us/step - loss: 1.5287 - mse: 1.5287 - val_loss: 1.5305 - val_mse: 1.5305\n",
      "Epoch 14/100\n",
      "\u001b[1m209/209\u001b[0m \u001b[32m━━━━━━━━━━━━━━━━━━━━\u001b[0m\u001b[37m\u001b[0m \u001b[1m0s\u001b[0m 580us/step - loss: 1.8128 - mse: 1.8128 - val_loss: 1.9816 - val_mse: 1.9816\n",
      "Epoch 15/100\n",
      "\u001b[1m209/209\u001b[0m \u001b[32m━━━━━━━━━━━━━━━━━━━━\u001b[0m\u001b[37m\u001b[0m \u001b[1m0s\u001b[0m 586us/step - loss: 1.8836 - mse: 1.8836 - val_loss: 1.5291 - val_mse: 1.5291\n",
      "Epoch 16/100\n",
      "\u001b[1m209/209\u001b[0m \u001b[32m━━━━━━━━━━━━━━━━━━━━\u001b[0m\u001b[37m\u001b[0m \u001b[1m0s\u001b[0m 619us/step - loss: 1.4524 - mse: 1.4524 - val_loss: 1.1625 - val_mse: 1.1625\n",
      "Epoch 17/100\n",
      "\u001b[1m209/209\u001b[0m \u001b[32m━━━━━━━━━━━━━━━━━━━━\u001b[0m\u001b[37m\u001b[0m \u001b[1m0s\u001b[0m 565us/step - loss: 1.4423 - mse: 1.4423 - val_loss: 1.1634 - val_mse: 1.1634\n",
      "Epoch 18/100\n",
      "\u001b[1m209/209\u001b[0m \u001b[32m━━━━━━━━━━━━━━━━━━━━\u001b[0m\u001b[37m\u001b[0m \u001b[1m0s\u001b[0m 567us/step - loss: 1.8139 - mse: 1.8139 - val_loss: 1.2767 - val_mse: 1.2767\n",
      "Epoch 19/100\n",
      "\u001b[1m209/209\u001b[0m \u001b[32m━━━━━━━━━━━━━━━━━━━━\u001b[0m\u001b[37m\u001b[0m \u001b[1m0s\u001b[0m 607us/step - loss: 1.6329 - mse: 1.6329 - val_loss: 1.1071 - val_mse: 1.1071\n",
      "Epoch 20/100\n",
      "\u001b[1m209/209\u001b[0m \u001b[32m━━━━━━━━━━━━━━━━━━━━\u001b[0m\u001b[37m\u001b[0m \u001b[1m0s\u001b[0m 569us/step - loss: 1.4136 - mse: 1.4136 - val_loss: 4.4579 - val_mse: 4.4579\n",
      "Epoch 21/100\n",
      "\u001b[1m209/209\u001b[0m \u001b[32m━━━━━━━━━━━━━━━━━━━━\u001b[0m\u001b[37m\u001b[0m \u001b[1m0s\u001b[0m 611us/step - loss: 2.2921 - mse: 2.2921 - val_loss: 1.0504 - val_mse: 1.0504\n",
      "Epoch 22/100\n",
      "\u001b[1m209/209\u001b[0m \u001b[32m━━━━━━━━━━━━━━━━━━━━\u001b[0m\u001b[37m\u001b[0m \u001b[1m0s\u001b[0m 566us/step - loss: 1.2828 - mse: 1.2828 - val_loss: 1.1535 - val_mse: 1.1535\n",
      "Epoch 23/100\n",
      "\u001b[1m209/209\u001b[0m \u001b[32m━━━━━━━━━━━━━━━━━━━━\u001b[0m\u001b[37m\u001b[0m \u001b[1m0s\u001b[0m 558us/step - loss: 1.4561 - mse: 1.4561 - val_loss: 3.1221 - val_mse: 3.1221\n",
      "Epoch 24/100\n",
      "\u001b[1m209/209\u001b[0m \u001b[32m━━━━━━━━━━━━━━━━━━━━\u001b[0m\u001b[37m\u001b[0m \u001b[1m0s\u001b[0m 570us/step - loss: 1.3441 - mse: 1.3441 - val_loss: 1.2813 - val_mse: 1.2813\n",
      "Epoch 25/100\n",
      "\u001b[1m209/209\u001b[0m \u001b[32m━━━━━━━━━━━━━━━━━━━━\u001b[0m\u001b[37m\u001b[0m \u001b[1m0s\u001b[0m 572us/step - loss: 1.4579 - mse: 1.4579 - val_loss: 1.7633 - val_mse: 1.7633\n",
      "Epoch 26/100\n",
      "\u001b[1m209/209\u001b[0m \u001b[32m━━━━━━━━━━━━━━━━━━━━\u001b[0m\u001b[37m\u001b[0m \u001b[1m0s\u001b[0m 586us/step - loss: 1.5004 - mse: 1.5004 - val_loss: 1.0251 - val_mse: 1.0251\n",
      "Epoch 27/100\n",
      "\u001b[1m209/209\u001b[0m \u001b[32m━━━━━━━━━━━━━━━━━━━━\u001b[0m\u001b[37m\u001b[0m \u001b[1m0s\u001b[0m 562us/step - loss: 1.1850 - mse: 1.1850 - val_loss: 1.0627 - val_mse: 1.0627\n",
      "Epoch 28/100\n",
      "\u001b[1m209/209\u001b[0m \u001b[32m━━━━━━━━━━━━━━━━━━━━\u001b[0m\u001b[37m\u001b[0m \u001b[1m0s\u001b[0m 564us/step - loss: 1.2994 - mse: 1.2994 - val_loss: 1.0289 - val_mse: 1.0289\n",
      "Epoch 29/100\n",
      "\u001b[1m209/209\u001b[0m \u001b[32m━━━━━━━━━━━━━━━━━━━━\u001b[0m\u001b[37m\u001b[0m \u001b[1m0s\u001b[0m 560us/step - loss: 1.2460 - mse: 1.2460 - val_loss: 1.0464 - val_mse: 1.0464\n",
      "Epoch 30/100\n",
      "\u001b[1m209/209\u001b[0m \u001b[32m━━━━━━━━━━━━━━━━━━━━\u001b[0m\u001b[37m\u001b[0m \u001b[1m0s\u001b[0m 556us/step - loss: 1.3814 - mse: 1.3814 - val_loss: 1.2330 - val_mse: 1.2330\n",
      "Epoch 31/100\n",
      "\u001b[1m209/209\u001b[0m \u001b[32m━━━━━━━━━━━━━━━━━━━━\u001b[0m\u001b[37m\u001b[0m \u001b[1m0s\u001b[0m 605us/step - loss: 1.3925 - mse: 1.3925 - val_loss: 0.9141 - val_mse: 0.9141\n",
      "Epoch 32/100\n",
      "\u001b[1m209/209\u001b[0m \u001b[32m━━━━━━━━━━━━━━━━━━━━\u001b[0m\u001b[37m\u001b[0m \u001b[1m0s\u001b[0m 560us/step - loss: 1.5568 - mse: 1.5568 - val_loss: 0.9521 - val_mse: 0.9521\n",
      "Epoch 33/100\n",
      "\u001b[1m209/209\u001b[0m \u001b[32m━━━━━━━━━━━━━━━━━━━━\u001b[0m\u001b[37m\u001b[0m \u001b[1m0s\u001b[0m 556us/step - loss: 1.2736 - mse: 1.2736 - val_loss: 0.9712 - val_mse: 0.9712\n",
      "Epoch 34/100\n",
      "\u001b[1m209/209\u001b[0m \u001b[32m━━━━━━━━━━━━━━━━━━━━\u001b[0m\u001b[37m\u001b[0m \u001b[1m0s\u001b[0m 561us/step - loss: 1.1582 - mse: 1.1582 - val_loss: 1.1818 - val_mse: 1.1818\n",
      "Epoch 35/100\n",
      "\u001b[1m209/209\u001b[0m \u001b[32m━━━━━━━━━━━━━━━━━━━━\u001b[0m\u001b[37m\u001b[0m \u001b[1m0s\u001b[0m 644us/step - loss: 1.1082 - mse: 1.1082 - val_loss: 0.8747 - val_mse: 0.8747\n",
      "Epoch 36/100\n",
      "\u001b[1m209/209\u001b[0m \u001b[32m━━━━━━━━━━━━━━━━━━━━\u001b[0m\u001b[37m\u001b[0m \u001b[1m0s\u001b[0m 566us/step - loss: 1.2510 - mse: 1.2510 - val_loss: 2.5456 - val_mse: 2.5456\n",
      "Epoch 37/100\n",
      "\u001b[1m209/209\u001b[0m \u001b[32m━━━━━━━━━━━━━━━━━━━━\u001b[0m\u001b[37m\u001b[0m \u001b[1m0s\u001b[0m 566us/step - loss: 1.4404 - mse: 1.4404 - val_loss: 0.9868 - val_mse: 0.9868\n",
      "Epoch 38/100\n",
      "\u001b[1m209/209\u001b[0m \u001b[32m━━━━━━━━━━━━━━━━━━━━\u001b[0m\u001b[37m\u001b[0m \u001b[1m0s\u001b[0m 561us/step - loss: 1.2908 - mse: 1.2908 - val_loss: 0.9125 - val_mse: 0.9125\n",
      "Epoch 39/100\n",
      "\u001b[1m209/209\u001b[0m \u001b[32m━━━━━━━━━━━━━━━━━━━━\u001b[0m\u001b[37m\u001b[0m \u001b[1m0s\u001b[0m 615us/step - loss: 1.1060 - mse: 1.1060 - val_loss: 0.8516 - val_mse: 0.8516\n",
      "Epoch 40/100\n",
      "\u001b[1m209/209\u001b[0m \u001b[32m━━━━━━━━━━━━━━━━━━━━\u001b[0m\u001b[37m\u001b[0m \u001b[1m0s\u001b[0m 578us/step - loss: 1.2597 - mse: 1.2597 - val_loss: 1.1963 - val_mse: 1.1963\n",
      "Epoch 41/100\n",
      "\u001b[1m209/209\u001b[0m \u001b[32m━━━━━━━━━━━━━━━━━━━━\u001b[0m\u001b[37m\u001b[0m \u001b[1m0s\u001b[0m 558us/step - loss: 1.1568 - mse: 1.1568 - val_loss: 0.9810 - val_mse: 0.9810\n",
      "Epoch 42/100\n",
      "\u001b[1m209/209\u001b[0m \u001b[32m━━━━━━━━━━━━━━━━━━━━\u001b[0m\u001b[37m\u001b[0m \u001b[1m0s\u001b[0m 564us/step - loss: 1.3117 - mse: 1.3117 - val_loss: 1.1739 - val_mse: 1.1739\n",
      "Epoch 43/100\n",
      "\u001b[1m209/209\u001b[0m \u001b[32m━━━━━━━━━━━━━━━━━━━━\u001b[0m\u001b[37m\u001b[0m \u001b[1m0s\u001b[0m 609us/step - loss: 1.2027 - mse: 1.2027 - val_loss: 0.8444 - val_mse: 0.8444\n",
      "Epoch 44/100\n",
      "\u001b[1m209/209\u001b[0m \u001b[32m━━━━━━━━━━━━━━━━━━━━\u001b[0m\u001b[37m\u001b[0m \u001b[1m0s\u001b[0m 566us/step - loss: 1.1405 - mse: 1.1405 - val_loss: 0.8971 - val_mse: 0.8971\n",
      "Epoch 45/100\n",
      "\u001b[1m209/209\u001b[0m \u001b[32m━━━━━━━━━━━━━━━━━━━━\u001b[0m\u001b[37m\u001b[0m \u001b[1m0s\u001b[0m 567us/step - loss: 1.2066 - mse: 1.2066 - val_loss: 0.8572 - val_mse: 0.8572\n",
      "Epoch 46/100\n",
      "\u001b[1m209/209\u001b[0m \u001b[32m━━━━━━━━━━━━━━━━━━━━\u001b[0m\u001b[37m\u001b[0m \u001b[1m0s\u001b[0m 599us/step - loss: 1.1322 - mse: 1.1322 - val_loss: 1.1797 - val_mse: 1.1797\n",
      "Epoch 47/100\n",
      "\u001b[1m209/209\u001b[0m \u001b[32m━━━━━━━━━━━━━━━━━━━━\u001b[0m\u001b[37m\u001b[0m \u001b[1m0s\u001b[0m 623us/step - loss: 1.0138 - mse: 1.0138 - val_loss: 0.8418 - val_mse: 0.8418\n",
      "Epoch 48/100\n",
      "\u001b[1m209/209\u001b[0m \u001b[32m━━━━━━━━━━━━━━━━━━━━\u001b[0m\u001b[37m\u001b[0m \u001b[1m0s\u001b[0m 597us/step - loss: 0.9968 - mse: 0.9968 - val_loss: 1.4199 - val_mse: 1.4199\n",
      "Epoch 49/100\n",
      "\u001b[1m209/209\u001b[0m \u001b[32m━━━━━━━━━━━━━━━━━━━━\u001b[0m\u001b[37m\u001b[0m \u001b[1m0s\u001b[0m 564us/step - loss: 1.2025 - mse: 1.2025 - val_loss: 0.9278 - val_mse: 0.9278\n",
      "Epoch 50/100\n",
      "\u001b[1m209/209\u001b[0m \u001b[32m━━━━━━━━━━━━━━━━━━━━\u001b[0m\u001b[37m\u001b[0m \u001b[1m0s\u001b[0m 575us/step - loss: 1.1608 - mse: 1.1608 - val_loss: 1.1120 - val_mse: 1.1120\n",
      "Epoch 51/100\n",
      "\u001b[1m209/209\u001b[0m \u001b[32m━━━━━━━━━━━━━━━━━━━━\u001b[0m\u001b[37m\u001b[0m \u001b[1m0s\u001b[0m 576us/step - loss: 1.0827 - mse: 1.0827 - val_loss: 0.9112 - val_mse: 0.9112\n",
      "Epoch 52/100\n",
      "\u001b[1m209/209\u001b[0m \u001b[32m━━━━━━━━━━━━━━━━━━━━\u001b[0m\u001b[37m\u001b[0m \u001b[1m0s\u001b[0m 568us/step - loss: 1.1164 - mse: 1.1164 - val_loss: 0.9697 - val_mse: 0.9697\n",
      "FCNN model training complete.\n"
     ]
    }
   ],
   "source": [
    "\n",
    "from tensorflow.keras.callbacks import EarlyStopping, ModelCheckpoint\n",
    "\n",
    "# Set up callbacks\n",
    "early_stopping = EarlyStopping(monitor='val_loss', patience=5, restore_best_weights=True)\n",
    "model_checkpoint = ModelCheckpoint('best_fcnn_model.keras', save_best_only=True, monitor='val_loss')\n",
    "\n",
    "# Train the model\n",
    "history = model.fit(\n",
    "    X_train, y_train,\n",
    "    validation_data=(X_test, y_test),\n",
    "    epochs=100,\n",
    "    callbacks=[early_stopping, model_checkpoint],\n",
    "    verbose=1\n",
    ")\n",
    "\n",
    "# Print training completion\n",
    "print(\"FCNN model training complete.\")\n"
   ]
  },
  {
   "cell_type": "markdown",
   "id": "9f977060-e021-4e79-b451-e964fc114dfd",
   "metadata": {},
   "source": [
    "## Evaluate the Model and Plot the Regression Lift Chart"
   ]
  },
  {
   "cell_type": "code",
   "execution_count": 339,
   "id": "5dbf1c05",
   "metadata": {},
   "outputs": [
    {
     "name": "stdout",
     "output_type": "stream",
     "text": [
      "WARNING:tensorflow:5 out of the last 30 calls to <function TensorFlowTrainer.make_predict_function.<locals>.one_step_on_data_distributed at 0x0000018119CF3100> triggered tf.function retracing. Tracing is expensive and the excessive number of tracings could be due to (1) creating @tf.function repeatedly in a loop, (2) passing tensors with different shapes, (3) passing Python objects instead of tensors. For (1), please define your @tf.function outside of the loop. For (2), @tf.function has reduce_retracing=True option that can avoid unnecessary retracing. For (3), please refer to https://www.tensorflow.org/guide/function#controlling_retracing and https://www.tensorflow.org/api_docs/python/tf/function for  more details.\n",
      "\u001b[1m1/2\u001b[0m \u001b[32m━━━━━━━━━━\u001b[0m\u001b[37m━━━━━━━━━━\u001b[0m \u001b[1m0s\u001b[0m 29ms/stepWARNING:tensorflow:6 out of the last 31 calls to <function TensorFlowTrainer.make_predict_function.<locals>.one_step_on_data_distributed at 0x0000018119CF3100> triggered tf.function retracing. Tracing is expensive and the excessive number of tracings could be due to (1) creating @tf.function repeatedly in a loop, (2) passing tensors with different shapes, (3) passing Python objects instead of tensors. For (1), please define your @tf.function outside of the loop. For (2), @tf.function has reduce_retracing=True option that can avoid unnecessary retracing. For (3), please refer to https://www.tensorflow.org/guide/function#controlling_retracing and https://www.tensorflow.org/api_docs/python/tf/function for  more details.\n",
      "\u001b[1m2/2\u001b[0m \u001b[32m━━━━━━━━━━━━━━━━━━━━\u001b[0m\u001b[37m\u001b[0m \u001b[1m0s\u001b[0m 17ms/step\n",
      "Root Mean Square Error (RMSE): 0.6315607419956101\n"
     ]
    }
   ],
   "source": [
    "from sklearn.metrics import mean_squared_error\n",
    "import numpy as np\n",
    "\n",
    "# Predict on the test set\n",
    "y_pred = model.predict([X_test_dummy])\n",
    "\n",
    "# Calculate RMSE\n",
    "rmse = np.sqrt(mean_squared_error(y_test_dummy, y_pred))\n",
    "print(f\"Root Mean Square Error (RMSE): {rmse}\")"
   ]
  },
  {
   "cell_type": "code",
   "execution_count": 340,
   "id": "78d4dab3-3c29-4728-bb1a-953a19f5f8b9",
   "metadata": {},
   "outputs": [
    {
     "name": "stdout",
     "output_type": "stream",
     "text": [
      "Test RMSE: 0.6315607419956101\n"
     ]
    },
    {
     "data": {
      "image/png": "[encoded data removed]",
      "text/plain": [
       "<Figure size 640x480 with 1 Axes>"
      ]
     },
     "metadata": {},
     "output_type": "display_data"
    }
   ],
   "source": [
    "from sklearn.metrics import mean_squared_error\n",
    "import numpy as np\n",
    "import matplotlib.pyplot as plt\n",
    "\n",
    "# Calculate RMSE\n",
    "rmse = np.sqrt(mean_squared_error(y_test_dummy, y_pred))\n",
    "print(\"Test RMSE:\", rmse)\n",
    "\n",
    "def chart_regression(pred,y,sort=True):\n",
    "    t = pd.DataFrame({'pred' : pred, 'y' : y})\n",
    "    if sort:\n",
    "        t.sort_values(by=['y'],inplace=True)\n",
    "    a = plt.plot(t['pred'].tolist(),label='prediction')\n",
    "    b = plt.plot(t['y'].tolist(),label='expected')\n",
    "    plt.ylabel('output')\n",
    "    plt.legend()\n",
    "    plt.show()\n",
    "\n",
    "chart_regression(y_pred.flatten(), y_test_dummy, sort=True)\n"
   ]
  }
 ],
 "metadata": {
  "kernelspec": {
   "display_name": "base",
   "language": "python",
   "name": "python3"
  },
  "language_info": {
   "codemirror_mode": {
    "name": "ipython",
    "version": 3
   },
   "file_extension": ".py",
   "mimetype": "text/x-python",
   "name": "python",
   "nbconvert_exporter": "python",
   "pygments_lexer": "ipython3",
   "version": "3.12.4"
  }
 },
 "nbformat": 4,
 "nbformat_minor": 5
}
