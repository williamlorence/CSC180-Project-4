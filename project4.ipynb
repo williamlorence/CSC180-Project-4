{
 "cells": [
  {
   "cell_type": "markdown",
   "id": "ec575970-aefa-472b-ad80-c053eb8c9c64",
   "metadata": {},
   "source": [
    "#### CSC 180 Intelligent Systems \n",
    "\n",
    "#### William Lorence, Ajaydeep Singh, Romin Akoliya, Abdurraziq Paikur\n",
    "\n",
    "#### California State University, Sacramento\n",
    "\n",
    "# Project 4: Time Series Forecasting\n",
    "\n",
    "## Creating the Dataframe"
   ]
  },
  {
   "cell_type": "code",
   "execution_count": 166,
   "id": "ab219583-9a83-4a42-ab9e-8bcf1457c7f9",
   "metadata": {},
   "outputs": [
    {
     "name": "stdout",
     "output_type": "stream",
     "text": [
      "./AAPL.csv\n",
      "(9556, 7)\n",
      "         Date      Open      High       Low     Close  Adj Close       Volume\n",
      "0  1980-12-12  0.513393  0.515625  0.513393  0.513393   0.023186  117258400.0\n",
      "1  1980-12-15  0.488839  0.488839  0.486607  0.486607   0.021977   43971200.0\n",
      "2  1980-12-16  0.453125  0.453125  0.450893  0.450893   0.020364   26432000.0\n",
      "3  1980-12-17  0.462054  0.464286  0.462054  0.462054   0.020868   21610400.0\n",
      "4  1980-12-18  0.475446  0.477679  0.475446  0.475446   0.021473   18362400.0\n"
     ]
    }
   ],
   "source": [
    "import csv\n",
    "import pandas as pd\n",
    "import tensorflow as tf\n",
    "import numpy as np\n",
    "from tensorflow.keras import Sequential\n",
    "from tensorflow.keras.layers import Dense\n",
    "from tensorflow.keras.callbacks import EarlyStopping, ModelCheckpoint\n",
    "\n",
    "#load data\n",
    "AAPL_path = \"./AAPL.csv\"\n",
    "\n",
    "df = pd.read_csv(AAPL_path)\n",
    "\n",
    "print(AAPL_path)\n",
    "print(df.shape)\n",
    "print(df.head())"
   ]
  },
  {
   "cell_type": "code",
   "execution_count": 167,
   "id": "413f3261-9135-46cd-a382-1f1932d286a8",
   "metadata": {},
   "outputs": [
    {
     "name": "stdout",
     "output_type": "stream",
     "text": [
      "First 5 rows of the filtered data:\n",
      "       Open      High       Low     Close       Volume\n",
      "0  0.513393  0.515625  0.513393  0.513393  117258400.0\n",
      "1  0.488839  0.488839  0.486607  0.486607   43971200.0\n",
      "2  0.453125  0.453125  0.450893  0.450893   26432000.0\n",
      "3  0.462054  0.464286  0.462054  0.462054   21610400.0\n",
      "4  0.475446  0.477679  0.475446  0.475446   18362400.0\n"
     ]
    }
   ],
   "source": [
    "# filter out dropping Date and Adj Close \n",
    "\n",
    "df_filtered = df.drop(columns=['Date', 'Adj Close'])\n",
    "print(\"First 5 rows of the filtered data:\")\n",
    "print(df_filtered.head())"
   ]
  },
  {
   "cell_type": "code",
   "execution_count": 168,
   "id": "fb654dce",
   "metadata": {},
   "outputs": [],
   "source": [
    "# drop rows with NaN values\n",
    "\n",
    "df_filtered = df_filtered.dropna()"
   ]
  },
  {
   "cell_type": "code",
   "execution_count": 169,
   "id": "dc5ea4f7",
   "metadata": {},
   "outputs": [
    {
     "data": {
      "text/plain": [
       "[0.513393, 0.486607, 0.450893, 0.462054, 0.475446]"
      ]
     },
     "execution_count": 169,
     "metadata": {},
     "output_type": "execute_result"
    }
   ],
   "source": [
    "close = df_filtered['Close'].tolist()\n",
    "close[0:5]"
   ]
  },
  {
   "cell_type": "markdown",
   "id": "c6cf9470-655b-4551-b9d5-92c05ae1aa3b",
   "metadata": {},
   "source": [
    "## Normalizing Input Features"
   ]
  },
  {
   "cell_type": "code",
   "execution_count": 170,
   "id": "36d8e524",
   "metadata": {},
   "outputs": [
    {
     "name": "stdout",
     "output_type": "stream",
     "text": [
      "Sample of scaled data (first 5 rows):\n"
     ]
    },
    {
     "data": {
      "text/html": [
       "<div>\n",
       "<style scoped>\n",
       "    .dataframe tbody tr th:only-of-type {\n",
       "        vertical-align: middle;\n",
       "    }\n",
       "\n",
       "    .dataframe tbody tr th {\n",
       "        vertical-align: top;\n",
       "    }\n",
       "\n",
       "    .dataframe thead th {\n",
       "        text-align: right;\n",
       "    }\n",
       "</style>\n",
       "<table border=\"1\" class=\"dataframe\">\n",
       "  <thead>\n",
       "    <tr style=\"text-align: right;\">\n",
       "      <th></th>\n",
       "      <th>Open</th>\n",
       "      <th>High</th>\n",
       "      <th>Low</th>\n",
       "      <th>Close</th>\n",
       "      <th>Volume</th>\n",
       "    </tr>\n",
       "  </thead>\n",
       "  <tbody>\n",
       "    <tr>\n",
       "      <th>0</th>\n",
       "      <td>-0.547665</td>\n",
       "      <td>-0.548357</td>\n",
       "      <td>-0.546670</td>\n",
       "      <td>-0.547549</td>\n",
       "      <td>0.339526</td>\n",
       "    </tr>\n",
       "    <tr>\n",
       "      <th>1</th>\n",
       "      <td>-0.548200</td>\n",
       "      <td>-0.548935</td>\n",
       "      <td>-0.547258</td>\n",
       "      <td>-0.548132</td>\n",
       "      <td>-0.503884</td>\n",
       "    </tr>\n",
       "    <tr>\n",
       "      <th>2</th>\n",
       "      <td>-0.548977</td>\n",
       "      <td>-0.549706</td>\n",
       "      <td>-0.548042</td>\n",
       "      <td>-0.548909</td>\n",
       "      <td>-0.705730</td>\n",
       "    </tr>\n",
       "    <tr>\n",
       "      <th>3</th>\n",
       "      <td>-0.548782</td>\n",
       "      <td>-0.549465</td>\n",
       "      <td>-0.547797</td>\n",
       "      <td>-0.548666</td>\n",
       "      <td>-0.761218</td>\n",
       "    </tr>\n",
       "    <tr>\n",
       "      <th>4</th>\n",
       "      <td>-0.548491</td>\n",
       "      <td>-0.549176</td>\n",
       "      <td>-0.547503</td>\n",
       "      <td>-0.548374</td>\n",
       "      <td>-0.798597</td>\n",
       "    </tr>\n",
       "  </tbody>\n",
       "</table>\n",
       "</div>"
      ],
      "text/plain": [
       "       Open      High       Low     Close    Volume\n",
       "0 -0.547665 -0.548357 -0.546670 -0.547549  0.339526\n",
       "1 -0.548200 -0.548935 -0.547258 -0.548132 -0.503884\n",
       "2 -0.548977 -0.549706 -0.548042 -0.548909 -0.705730\n",
       "3 -0.548782 -0.549465 -0.547797 -0.548666 -0.761218\n",
       "4 -0.548491 -0.549176 -0.547503 -0.548374 -0.798597"
      ]
     },
     "execution_count": 170,
     "metadata": {},
     "output_type": "execute_result"
    }
   ],
   "source": [
    "df_scaled = (df_filtered - df_filtered.mean()) / df_filtered.std()\n",
    "\n",
    "# Confirm the normalization\n",
    "print(\"Sample of scaled data (first 5 rows):\")\n",
    "df_scaled[0:5]"
   ]
  },
  {
   "cell_type": "markdown",
   "id": "b65b06b2",
   "metadata": {},
   "source": [
    "## Creating Windows to Send Data Properly"
   ]
  },
  {
   "cell_type": "code",
   "execution_count": 171,
   "id": "d70c3595",
   "metadata": {},
   "outputs": [],
   "source": [
    "def to_sequences(SEQUENCE_SIZE, data, output):\n",
    "    x = []\n",
    "    y = []\n",
    "\n",
    "    for i in range(len(data)-SEQUENCE_SIZE):\n",
    "        #print(i)\n",
    "        window = data.iloc[i:i + SEQUENCE_SIZE].values.flatten()\n",
    "        after_window = output[i+SEQUENCE_SIZE]\n",
    "        reshaped_window = window.reshape(7, 5)\n",
    "        #print(\"{} - {}\".format(window,after_window))\n",
    "        x.append(reshaped_window)\n",
    "        y.append(after_window)\n",
    "        \n",
    "    return np.array(x),np.array(y)"
   ]
  },
  {
   "cell_type": "code",
   "execution_count": 172,
   "id": "87abab80",
   "metadata": {},
   "outputs": [
    {
     "name": "stdout",
     "output_type": "stream",
     "text": [
      "Shape of X: (9548, 7, 5)\n",
      "Shape of y: (9548,)\n"
     ]
    },
    {
     "data": {
      "text/plain": [
       "array([[[-0.54766515, -0.54835724, -0.54667033, -0.54754873,\n",
       "          0.33952598],\n",
       "        [-0.54819953, -0.54893537, -0.54725828, -0.5481316 ,\n",
       "         -0.50388387],\n",
       "        [-0.5489768 , -0.54970621, -0.5480422 , -0.54890874,\n",
       "         -0.70572994],\n",
       "        [-0.54878248, -0.54946531, -0.54779722, -0.54866587,\n",
       "         -0.76121828],\n",
       "        [-0.54849102, -0.54917625, -0.54750326, -0.54837446,\n",
       "         -0.79859718],\n",
       "        [-0.54785948, -0.54854996, -0.54686632, -0.54774303,\n",
       "         -0.87000378],\n",
       "        [-0.54732509, -0.54801999, -0.54632737, -0.54720873,\n",
       "         -0.90242031]],\n",
       "\n",
       "       [[-0.54819953, -0.54893537, -0.54725828, -0.5481316 ,\n",
       "         -0.50388387],\n",
       "        [-0.5489768 , -0.54970621, -0.5480422 , -0.54890874,\n",
       "         -0.70572994],\n",
       "        [-0.54878248, -0.54946531, -0.54779722, -0.54866587,\n",
       "         -0.76121828],\n",
       "        [-0.54849102, -0.54917625, -0.54750326, -0.54837446,\n",
       "         -0.79859718],\n",
       "        [-0.54785948, -0.54854996, -0.54686632, -0.54774303,\n",
       "         -0.87000378],\n",
       "        [-0.54732509, -0.54801999, -0.54632737, -0.54720873,\n",
       "         -0.90242031],\n",
       "        [-0.5468393 , -0.54753823, -0.54583743, -0.54672302,\n",
       "         -0.87483726]],\n",
       "\n",
       "       [[-0.5489768 , -0.54970621, -0.5480422 , -0.54890874,\n",
       "         -0.70572994],\n",
       "        [-0.54878248, -0.54946531, -0.54779722, -0.54866587,\n",
       "         -0.76121828],\n",
       "        [-0.54849102, -0.54917625, -0.54750326, -0.54837446,\n",
       "         -0.79859718],\n",
       "        [-0.54785948, -0.54854996, -0.54686632, -0.54774303,\n",
       "         -0.87000378],\n",
       "        [-0.54732509, -0.54801999, -0.54632737, -0.54720873,\n",
       "         -0.90242031],\n",
       "        [-0.5468393 , -0.54753823, -0.54583743, -0.54672302,\n",
       "         -0.87483726],\n",
       "        [-0.54620776, -0.54691192, -0.54520049, -0.54609159,\n",
       "         -0.87180828]],\n",
       "\n",
       "       [[-0.54878248, -0.54946531, -0.54779722, -0.54866587,\n",
       "         -0.76121828],\n",
       "        [-0.54849102, -0.54917625, -0.54750326, -0.54837446,\n",
       "         -0.79859718],\n",
       "        [-0.54785948, -0.54854996, -0.54686632, -0.54774303,\n",
       "         -0.87000378],\n",
       "        [-0.54732509, -0.54801999, -0.54632737, -0.54720873,\n",
       "         -0.90242031],\n",
       "        [-0.5468393 , -0.54753823, -0.54583743, -0.54672302,\n",
       "         -0.87483726],\n",
       "        [-0.54620776, -0.54691192, -0.54520049, -0.54609159,\n",
       "         -0.87180828],\n",
       "        [-0.54504184, -0.54575564, -0.54402459, -0.54492585,\n",
       "         -0.8500254 ]],\n",
       "\n",
       "       [[-0.54849102, -0.54917625, -0.54750326, -0.54837446,\n",
       "         -0.79859718],\n",
       "        [-0.54785948, -0.54854996, -0.54686632, -0.54774303,\n",
       "         -0.87000378],\n",
       "        [-0.54732509, -0.54801999, -0.54632737, -0.54720873,\n",
       "         -0.90242031],\n",
       "        [-0.5468393 , -0.54753823, -0.54583743, -0.54672302,\n",
       "         -0.87483726],\n",
       "        [-0.54620776, -0.54691192, -0.54520049, -0.54609159,\n",
       "         -0.87180828],\n",
       "        [-0.54504184, -0.54575564, -0.54402459, -0.54492585,\n",
       "         -0.8500254 ],\n",
       "        [-0.54484753, -0.54556295, -0.54382862, -0.54473158,\n",
       "         -0.74188437]]])"
      ]
     },
     "execution_count": 172,
     "metadata": {},
     "output_type": "execute_result"
    }
   ],
   "source": [
    "SEQUENCE_SIZE = 7\n",
    "X,y = to_sequences(SEQUENCE_SIZE, df_scaled, close)\n",
    "\n",
    "print(\"Shape of X: {}\".format(X.shape))\n",
    "print(\"Shape of y: {}\".format(y.shape))\n",
    "\n",
    "X[0:5]"
   ]
  },
  {
   "cell_type": "code",
   "execution_count": 173,
   "id": "18bfda13",
   "metadata": {},
   "outputs": [
    {
     "data": {
      "text/plain": [
       "array([0.551339, 0.580357, 0.633929, 0.642857, 0.627232])"
      ]
     },
     "execution_count": 173,
     "metadata": {},
     "output_type": "execute_result"
    }
   ],
   "source": [
    "y[0:5]"
   ]
  },
  {
   "cell_type": "markdown",
   "id": "ff05719d-7149-4c9c-951c-94e381216d43",
   "metadata": {},
   "source": [
    "## Data Splitting and Preparation"
   ]
  },
  {
   "cell_type": "code",
   "execution_count": 174,
   "id": "4b343133",
   "metadata": {},
   "outputs": [
    {
     "name": "stdout",
     "output_type": "stream",
     "text": [
      "Training set has 6683 records.\n",
      "Test set has 2865 records.\n",
      "\n",
      "Shape of X_train: (6683, 7, 5)\n",
      "Shape of y_train: (6683,)\n",
      "Shape of X_test: (2865, 7, 5)\n",
      "Shape of y_test: (2865,)\n"
     ]
    }
   ],
   "source": [
    "from sklearn.model_selection import train_test_split\n",
    "\n",
    "X_train, X_test, y_train, y_test = train_test_split(X, y, test_size=0.3, random_state=1249)\n",
    "\n",
    "print(\"Training set has {} records.\".format(len(X_train)))\n",
    "print(\"Test set has {} records.\".format(len(X_test)))\n",
    "print(\"\")\n",
    "print(\"Shape of X_train: {}\".format(X_train.shape))\n",
    "print(\"Shape of y_train: {}\".format(y_train.shape))\n",
    "print(\"Shape of X_test: {}\".format(X_test.shape))\n",
    "print(\"Shape of y_test: {}\".format(y_test.shape))"
   ]
  },
  {
   "cell_type": "code",
   "execution_count": 175,
   "id": "08c81c15",
   "metadata": {},
   "outputs": [
    {
     "data": {
      "text/plain": [
       "array([[[-0.52677588, -0.52730366, -0.52619035, -0.52666293,\n",
       "          0.52139367],\n",
       "        [-0.52697018, -0.52653281, -0.5257984 , -0.5256915 ,\n",
       "         -0.06145943],\n",
       "        [-0.52599858, -0.52672553, -0.52540644, -0.52627436,\n",
       "         -0.28895517],\n",
       "        [-0.52677588, -0.52749636, -0.52658233, -0.52763437,\n",
       "         -0.0090323 ],\n",
       "        [-0.52794178, -0.52865263, -0.52736625, -0.52792578,\n",
       "         -0.31263922],\n",
       "        [-0.52813611, -0.52788178, -0.52697429, -0.5270515 ,\n",
       "         -0.54748185],\n",
       "        [-0.52755315, -0.52826719, -0.52697429, -0.52773151,\n",
       "         -0.75941378]],\n",
       "\n",
       "       [[-0.55271744, -0.5533677 , -0.5521088 , -0.55294018,\n",
       "          0.08199822],\n",
       "        [-0.5530575 , -0.55341588, -0.55215779, -0.55298875,\n",
       "          0.61754768],\n",
       "        [-0.5530575 , -0.55370495, -0.5521088 , -0.55294018,\n",
       "         -0.32994307],\n",
       "        [-0.55291177, -0.55351223, -0.55196182, -0.55279448,\n",
       "         -0.24687168],\n",
       "        [-0.55276602, -0.5533677 , -0.55181482, -0.55264875,\n",
       "         -0.51509754],\n",
       "        [-0.55271744, -0.55341588, -0.55176583, -0.55260018,\n",
       "         -0.46096257],\n",
       "        [-0.55257171, -0.55312681, -0.55161886, -0.55245448,\n",
       "         -0.53191804]],\n",
       "\n",
       "       [[-0.54926828, -0.54965803, -0.54843416, -0.54890874,\n",
       "         -0.5005971 ],\n",
       "        [-0.54902538, -0.54956168, -0.54809119, -0.54886017,\n",
       "         -0.71836144],\n",
       "        [-0.5489768 , -0.54970621, -0.54823819, -0.54910303,\n",
       "         -0.7331841 ],\n",
       "        [-0.54921971, -0.54989893, -0.54828718, -0.5491516 ,\n",
       "         -0.79273256],\n",
       "        [-0.54926828, -0.54989893, -0.54833617, -0.54905446,\n",
       "         -0.71339906],\n",
       "        [-0.54917113, -0.54980256, -0.54823819, -0.54910303,\n",
       "         -0.76340946],\n",
       "        [-0.54921971, -0.54985073, -0.54838516, -0.54910303,\n",
       "         -0.67627795]],\n",
       "\n",
       "       [[-0.53105088, -0.53096514, -0.53010998, -0.53006295,\n",
       "         -0.46905059],\n",
       "        [-0.53066224, -0.53115786, -0.52971802, -0.53035438,\n",
       "         -0.87097047],\n",
       "        [-0.53046794, -0.53115786, -0.52971802, -0.53035438,\n",
       "         -0.6089637 ],\n",
       "        [-0.53046794, -0.53115786, -0.52971802, -0.53016009,\n",
       "         -0.74330219],\n",
       "        [-0.53027361, -0.5301943 , -0.52913007, -0.52948008,\n",
       "         -0.52702012],\n",
       "        [-0.52949634, -0.52942347, -0.52854213, -0.52860578,\n",
       "         -0.39951295],\n",
       "        [-0.52910771, -0.52874898, -0.52815017, -0.52821721,\n",
       "         -0.04979464]],\n",
       "\n",
       "       [[ 2.21560011,  2.19478885,  2.22705481,  2.20546448,\n",
       "         -0.66157381],\n",
       "        [ 2.20972382,  2.24205684,  2.2323229 ,  2.22896543,\n",
       "         -0.37372864],\n",
       "        [ 2.24563399,  2.22910659,  2.24066377,  2.21569175,\n",
       "         -0.64236419],\n",
       "        [ 2.21973511,  2.20299053,  2.21893348,  2.19937168,\n",
       "         -0.50278367],\n",
       "        [ 2.17163731,  2.17018362,  2.17437536,  2.15106425,\n",
       "         -0.44415357],\n",
       "        [ 2.17403135,  2.16262942,  2.18271625,  2.17064836,\n",
       "         -0.49928631],\n",
       "        [ 2.20297713,  2.1803279 ,  2.20751949,  2.19610762,\n",
       "         -0.66192021]]])"
      ]
     },
     "execution_count": 175,
     "metadata": {},
     "output_type": "execute_result"
    }
   ],
   "source": [
    "X_train[0:5]"
   ]
  },
  {
   "cell_type": "code",
   "execution_count": 176,
   "id": "4cebb270",
   "metadata": {},
   "outputs": [
    {
     "data": {
      "text/plain": [
       "array([  1.433036,   0.308036,   0.466518,   1.410714, 126.440002])"
      ]
     },
     "execution_count": 176,
     "metadata": {},
     "output_type": "execute_result"
    }
   ],
   "source": [
    "y_train[0:5]"
   ]
  },
  {
   "cell_type": "markdown",
   "id": "9281cac3-85f4-4829-982a-4d07ea293182",
   "metadata": {},
   "source": [
    "## Build the Fully-Connected Neural Network (FCNN)"
   ]
  },
  {
   "cell_type": "code",
   "execution_count": 177,
   "id": "efe7c01c-ff49-45b1-b3e3-91826f59fbcb",
   "metadata": {},
   "outputs": [
    {
     "name": "stderr",
     "output_type": "stream",
     "text": [
      "c:\\Users\\legow\\anaconda3\\Lib\\site-packages\\keras\\src\\layers\\reshaping\\flatten.py:37: UserWarning: Do not pass an `input_shape`/`input_dim` argument to a layer. When using Sequential models, prefer using an `Input(shape)` object as the first layer in the model instead.\n",
      "  super().__init__(**kwargs)\n"
     ]
    },
    {
     "data": {
      "text/html": [
       "<pre style=\"white-space:pre;overflow-x:auto;line-height:normal;font-family:Menlo,'DejaVu Sans Mono',consolas,'Courier New',monospace\"><span style=\"font-weight: bold\">Model: \"sequential_13\"</span>\n",
       "</pre>\n"
      ],
      "text/plain": [
       "\u001b[1mModel: \"sequential_13\"\u001b[0m\n"
      ]
     },
     "metadata": {},
     "output_type": "display_data"
    },
    {
     "data": {
      "text/html": [
       "<pre style=\"white-space:pre;overflow-x:auto;line-height:normal;font-family:Menlo,'DejaVu Sans Mono',consolas,'Courier New',monospace\">┏━━━━━━━━━━━━━━━━━━━━━━━━━━━━━━━━━┳━━━━━━━━━━━━━━━━━━━━━━━━┳━━━━━━━━━━━━━━━┓\n",
       "┃<span style=\"font-weight: bold\"> Layer (type)                    </span>┃<span style=\"font-weight: bold\"> Output Shape           </span>┃<span style=\"font-weight: bold\">       Param # </span>┃\n",
       "┡━━━━━━━━━━━━━━━━━━━━━━━━━━━━━━━━━╇━━━━━━━━━━━━━━━━━━━━━━━━╇━━━━━━━━━━━━━━━┩\n",
       "│ flatten_8 (<span style=\"color: #0087ff; text-decoration-color: #0087ff\">Flatten</span>)             │ (<span style=\"color: #00d7ff; text-decoration-color: #00d7ff\">None</span>, <span style=\"color: #00af00; text-decoration-color: #00af00\">35</span>)             │             <span style=\"color: #00af00; text-decoration-color: #00af00\">0</span> │\n",
       "├─────────────────────────────────┼────────────────────────┼───────────────┤\n",
       "│ dense_53 (<span style=\"color: #0087ff; text-decoration-color: #0087ff\">Dense</span>)                │ (<span style=\"color: #00d7ff; text-decoration-color: #00d7ff\">None</span>, <span style=\"color: #00af00; text-decoration-color: #00af00\">64</span>)             │         <span style=\"color: #00af00; text-decoration-color: #00af00\">2,304</span> │\n",
       "├─────────────────────────────────┼────────────────────────┼───────────────┤\n",
       "│ dropout_31 (<span style=\"color: #0087ff; text-decoration-color: #0087ff\">Dropout</span>)            │ (<span style=\"color: #00d7ff; text-decoration-color: #00d7ff\">None</span>, <span style=\"color: #00af00; text-decoration-color: #00af00\">64</span>)             │             <span style=\"color: #00af00; text-decoration-color: #00af00\">0</span> │\n",
       "├─────────────────────────────────┼────────────────────────┼───────────────┤\n",
       "│ dense_54 (<span style=\"color: #0087ff; text-decoration-color: #0087ff\">Dense</span>)                │ (<span style=\"color: #00d7ff; text-decoration-color: #00d7ff\">None</span>, <span style=\"color: #00af00; text-decoration-color: #00af00\">32</span>)             │         <span style=\"color: #00af00; text-decoration-color: #00af00\">2,080</span> │\n",
       "├─────────────────────────────────┼────────────────────────┼───────────────┤\n",
       "│ dropout_32 (<span style=\"color: #0087ff; text-decoration-color: #0087ff\">Dropout</span>)            │ (<span style=\"color: #00d7ff; text-decoration-color: #00d7ff\">None</span>, <span style=\"color: #00af00; text-decoration-color: #00af00\">32</span>)             │             <span style=\"color: #00af00; text-decoration-color: #00af00\">0</span> │\n",
       "├─────────────────────────────────┼────────────────────────┼───────────────┤\n",
       "│ dense_55 (<span style=\"color: #0087ff; text-decoration-color: #0087ff\">Dense</span>)                │ (<span style=\"color: #00d7ff; text-decoration-color: #00d7ff\">None</span>, <span style=\"color: #00af00; text-decoration-color: #00af00\">1</span>)              │            <span style=\"color: #00af00; text-decoration-color: #00af00\">33</span> │\n",
       "└─────────────────────────────────┴────────────────────────┴───────────────┘\n",
       "</pre>\n"
      ],
      "text/plain": [
       "┏━━━━━━━━━━━━━━━━━━━━━━━━━━━━━━━━━┳━━━━━━━━━━━━━━━━━━━━━━━━┳━━━━━━━━━━━━━━━┓\n",
       "┃\u001b[1m \u001b[0m\u001b[1mLayer (type)                   \u001b[0m\u001b[1m \u001b[0m┃\u001b[1m \u001b[0m\u001b[1mOutput Shape          \u001b[0m\u001b[1m \u001b[0m┃\u001b[1m \u001b[0m\u001b[1m      Param #\u001b[0m\u001b[1m \u001b[0m┃\n",
       "┡━━━━━━━━━━━━━━━━━━━━━━━━━━━━━━━━━╇━━━━━━━━━━━━━━━━━━━━━━━━╇━━━━━━━━━━━━━━━┩\n",
       "│ flatten_8 (\u001b[38;5;33mFlatten\u001b[0m)             │ (\u001b[38;5;45mNone\u001b[0m, \u001b[38;5;34m35\u001b[0m)             │             \u001b[38;5;34m0\u001b[0m │\n",
       "├─────────────────────────────────┼────────────────────────┼───────────────┤\n",
       "│ dense_53 (\u001b[38;5;33mDense\u001b[0m)                │ (\u001b[38;5;45mNone\u001b[0m, \u001b[38;5;34m64\u001b[0m)             │         \u001b[38;5;34m2,304\u001b[0m │\n",
       "├─────────────────────────────────┼────────────────────────┼───────────────┤\n",
       "│ dropout_31 (\u001b[38;5;33mDropout\u001b[0m)            │ (\u001b[38;5;45mNone\u001b[0m, \u001b[38;5;34m64\u001b[0m)             │             \u001b[38;5;34m0\u001b[0m │\n",
       "├─────────────────────────────────┼────────────────────────┼───────────────┤\n",
       "│ dense_54 (\u001b[38;5;33mDense\u001b[0m)                │ (\u001b[38;5;45mNone\u001b[0m, \u001b[38;5;34m32\u001b[0m)             │         \u001b[38;5;34m2,080\u001b[0m │\n",
       "├─────────────────────────────────┼────────────────────────┼───────────────┤\n",
       "│ dropout_32 (\u001b[38;5;33mDropout\u001b[0m)            │ (\u001b[38;5;45mNone\u001b[0m, \u001b[38;5;34m32\u001b[0m)             │             \u001b[38;5;34m0\u001b[0m │\n",
       "├─────────────────────────────────┼────────────────────────┼───────────────┤\n",
       "│ dense_55 (\u001b[38;5;33mDense\u001b[0m)                │ (\u001b[38;5;45mNone\u001b[0m, \u001b[38;5;34m1\u001b[0m)              │            \u001b[38;5;34m33\u001b[0m │\n",
       "└─────────────────────────────────┴────────────────────────┴───────────────┘\n"
      ]
     },
     "metadata": {},
     "output_type": "display_data"
    },
    {
     "data": {
      "text/html": [
       "<pre style=\"white-space:pre;overflow-x:auto;line-height:normal;font-family:Menlo,'DejaVu Sans Mono',consolas,'Courier New',monospace\"><span style=\"font-weight: bold\"> Total params: </span><span style=\"color: #00af00; text-decoration-color: #00af00\">4,417</span> (17.25 KB)\n",
       "</pre>\n"
      ],
      "text/plain": [
       "\u001b[1m Total params: \u001b[0m\u001b[38;5;34m4,417\u001b[0m (17.25 KB)\n"
      ]
     },
     "metadata": {},
     "output_type": "display_data"
    },
    {
     "data": {
      "text/html": [
       "<pre style=\"white-space:pre;overflow-x:auto;line-height:normal;font-family:Menlo,'DejaVu Sans Mono',consolas,'Courier New',monospace\"><span style=\"font-weight: bold\"> Trainable params: </span><span style=\"color: #00af00; text-decoration-color: #00af00\">4,417</span> (17.25 KB)\n",
       "</pre>\n"
      ],
      "text/plain": [
       "\u001b[1m Trainable params: \u001b[0m\u001b[38;5;34m4,417\u001b[0m (17.25 KB)\n"
      ]
     },
     "metadata": {},
     "output_type": "display_data"
    },
    {
     "data": {
      "text/html": [
       "<pre style=\"white-space:pre;overflow-x:auto;line-height:normal;font-family:Menlo,'DejaVu Sans Mono',consolas,'Courier New',monospace\"><span style=\"font-weight: bold\"> Non-trainable params: </span><span style=\"color: #00af00; text-decoration-color: #00af00\">0</span> (0.00 B)\n",
       "</pre>\n"
      ],
      "text/plain": [
       "\u001b[1m Non-trainable params: \u001b[0m\u001b[38;5;34m0\u001b[0m (0.00 B)\n"
      ]
     },
     "metadata": {},
     "output_type": "display_data"
    },
    {
     "name": "stdout",
     "output_type": "stream",
     "text": [
      "None\n"
     ]
    }
   ],
   "source": [
    "from tensorflow.keras.layers import Dense, Dropout\n",
    "\n",
    "# Define the FCNN model\n",
    "model_fcnn = Sequential([\n",
    "    Flatten(input_shape=(7,5)),\n",
    "    Dense(64, activation='relu'),\n",
    "    Dropout(0.2),\n",
    "    Dense(32, activation='relu'),\n",
    "    Dropout(0.2),\n",
    "    Dense(1)  # Output layer with a single neuron for regression\n",
    "])\n",
    "\n",
    "print(model_fcnn.summary())\n",
    "\n",
    "# Compile the model\n",
    "model_fcnn.compile(optimizer='adam', loss='mean_squared_error')"
   ]
  },
  {
   "cell_type": "code",
   "execution_count": 178,
   "id": "1656c862-f8d6-4b20-994a-a29891c5bbc1",
   "metadata": {},
   "outputs": [
    {
     "name": "stdout",
     "output_type": "stream",
     "text": [
      "Epoch 1/50\n",
      "\u001b[1m209/209\u001b[0m \u001b[32m━━━━━━━━━━━━━━━━━━━━\u001b[0m\u001b[37m\u001b[0m \u001b[1m1s\u001b[0m 972us/step - loss: 1784.7948 - val_loss: 54.2846\n",
      "Epoch 2/50\n",
      "\u001b[1m209/209\u001b[0m \u001b[32m━━━━━━━━━━━━━━━━━━━━\u001b[0m\u001b[37m\u001b[0m \u001b[1m0s\u001b[0m 635us/step - loss: 109.3824 - val_loss: 38.6280\n",
      "Epoch 3/50\n",
      "\u001b[1m209/209\u001b[0m \u001b[32m━━━━━━━━━━━━━━━━━━━━\u001b[0m\u001b[37m\u001b[0m \u001b[1m0s\u001b[0m 627us/step - loss: 91.5844 - val_loss: 35.8541\n",
      "Epoch 4/50\n",
      "\u001b[1m209/209\u001b[0m \u001b[32m━━━━━━━━━━━━━━━━━━━━\u001b[0m\u001b[37m\u001b[0m \u001b[1m0s\u001b[0m 646us/step - loss: 78.9755 - val_loss: 12.0369\n",
      "Epoch 5/50\n",
      "\u001b[1m209/209\u001b[0m \u001b[32m━━━━━━━━━━━━━━━━━━━━\u001b[0m\u001b[37m\u001b[0m \u001b[1m0s\u001b[0m 679us/step - loss: 72.1106 - val_loss: 9.4828\n",
      "Epoch 6/50\n",
      "\u001b[1m209/209\u001b[0m \u001b[32m━━━━━━━━━━━━━━━━━━━━\u001b[0m\u001b[37m\u001b[0m \u001b[1m0s\u001b[0m 627us/step - loss: 62.7005 - val_loss: 10.0598\n",
      "Epoch 7/50\n",
      "\u001b[1m209/209\u001b[0m \u001b[32m━━━━━━━━━━━━━━━━━━━━\u001b[0m\u001b[37m\u001b[0m \u001b[1m0s\u001b[0m 673us/step - loss: 60.6107 - val_loss: 9.1846\n",
      "Epoch 8/50\n",
      "\u001b[1m209/209\u001b[0m \u001b[32m━━━━━━━━━━━━━━━━━━━━\u001b[0m\u001b[37m\u001b[0m \u001b[1m0s\u001b[0m 598us/step - loss: 61.7350 - val_loss: 15.2996\n",
      "Epoch 9/50\n",
      "\u001b[1m209/209\u001b[0m \u001b[32m━━━━━━━━━━━━━━━━━━━━\u001b[0m\u001b[37m\u001b[0m \u001b[1m0s\u001b[0m 630us/step - loss: 54.8309 - val_loss: 3.7791\n",
      "Epoch 10/50\n",
      "\u001b[1m209/209\u001b[0m \u001b[32m━━━━━━━━━━━━━━━━━━━━\u001b[0m\u001b[37m\u001b[0m \u001b[1m0s\u001b[0m 657us/step - loss: 57.7584 - val_loss: 2.8049\n",
      "Epoch 11/50\n",
      "\u001b[1m209/209\u001b[0m \u001b[32m━━━━━━━━━━━━━━━━━━━━\u001b[0m\u001b[37m\u001b[0m \u001b[1m0s\u001b[0m 595us/step - loss: 58.4745 - val_loss: 4.8375\n",
      "Epoch 12/50\n",
      "\u001b[1m209/209\u001b[0m \u001b[32m━━━━━━━━━━━━━━━━━━━━\u001b[0m\u001b[37m\u001b[0m \u001b[1m0s\u001b[0m 586us/step - loss: 57.6222 - val_loss: 10.3563\n",
      "Epoch 13/50\n",
      "\u001b[1m209/209\u001b[0m \u001b[32m━━━━━━━━━━━━━━━━━━━━\u001b[0m\u001b[37m\u001b[0m \u001b[1m0s\u001b[0m 580us/step - loss: 59.7194 - val_loss: 9.9891\n",
      "Epoch 14/50\n",
      "\u001b[1m209/209\u001b[0m \u001b[32m━━━━━━━━━━━━━━━━━━━━\u001b[0m\u001b[37m\u001b[0m \u001b[1m0s\u001b[0m 589us/step - loss: 51.5549 - val_loss: 4.7823\n",
      "Epoch 15/50\n",
      "\u001b[1m209/209\u001b[0m \u001b[32m━━━━━━━━━━━━━━━━━━━━\u001b[0m\u001b[37m\u001b[0m \u001b[1m0s\u001b[0m 603us/step - loss: 53.6696 - val_loss: 4.0762\n",
      "FCNN model training complete.\n"
     ]
    }
   ],
   "source": [
    "from tensorflow.keras.callbacks import EarlyStopping, ModelCheckpoint\n",
    "\n",
    "# Set up callbacks\n",
    "early_stopping = EarlyStopping(monitor='val_loss', patience=5, restore_best_weights=True)\n",
    "model_checkpoint = ModelCheckpoint('best_fcnn_model.keras', save_best_only=True, monitor='val_loss')\n",
    "\n",
    "# Train the model\n",
    "history = model_fcnn.fit(\n",
    "    X_train, y_train,\n",
    "    validation_data=(X_test, y_test),\n",
    "    epochs=50,\n",
    "    callbacks=[early_stopping, model_checkpoint],\n",
    "    verbose=1\n",
    ")\n",
    "\n",
    "# Print training completion\n",
    "print(\"FCNN model training complete.\")\n"
   ]
  },
  {
   "cell_type": "markdown",
   "id": "9f977060-e021-4e79-b451-e964fc114dfd",
   "metadata": {},
   "source": [
    "## Evaluate the Model and Plot the Regression Lift Chart"
   ]
  },
  {
   "cell_type": "code",
   "execution_count": 179,
   "id": "5dbf1c05",
   "metadata": {},
   "outputs": [
    {
     "name": "stdout",
     "output_type": "stream",
     "text": [
      "\u001b[1m90/90\u001b[0m \u001b[32m━━━━━━━━━━━━━━━━━━━━\u001b[0m\u001b[37m\u001b[0m \u001b[1m0s\u001b[0m 514us/step\n",
      "Root Mean Square Error (RMSE): 1.674793700439801\n"
     ]
    }
   ],
   "source": [
    "from sklearn.metrics import mean_squared_error\n",
    "import numpy as np\n",
    "\n",
    "# Predict on the test set\n",
    "y_pred_fcnn = model_fcnn.predict(X_test)\n",
    "\n",
    "# Calculate RMSE\n",
    "rmse = np.sqrt(mean_squared_error(y_test, y_pred_fcnn))\n",
    "print(f\"Root Mean Square Error (RMSE): {rmse}\")"
   ]
  },
  {
   "cell_type": "code",
   "execution_count": 180,
   "id": "78d4dab3-3c29-4728-bb1a-953a19f5f8b9",
   "metadata": {},
   "outputs": [
    {
     "name": "stdout",
     "output_type": "stream",
     "text": [
      "Test RMSE: 1.674793700439801\n"
     ]
    },
    {
     "data": {
      "image/png": "[encoded data removed]",
      "text/plain": [
       "<Figure size 640x480 with 1 Axes>"
      ]
     },
     "metadata": {},
     "output_type": "display_data"
    }
   ],
   "source": [
    "from sklearn.metrics import mean_squared_error\n",
    "import numpy as np\n",
    "import matplotlib.pyplot as plt\n",
    "\n",
    "# Calculate RMSE\n",
    "rmse = np.sqrt(mean_squared_error(y_test, y_pred_fcnn))\n",
    "print(\"Test RMSE:\", rmse)\n",
    "\n",
    "def chart_regression(pred,y,sort=True):\n",
    "    t = pd.DataFrame({'pred' : pred, 'y' : y})\n",
    "    if sort:\n",
    "        t.sort_values(by=['y'],inplace=True)\n",
    "    a = plt.plot(t['pred'].tolist(),label='prediction')\n",
    "    b = plt.plot(t['y'].tolist(),label='expected')\n",
    "    plt.ylabel('output')\n",
    "    plt.legend()\n",
    "    plt.show()\n",
    "\n",
    "chart_regression(y_pred_fcnn.flatten(), y_test, sort=True)\n"
   ]
  },
  {
   "cell_type": "markdown",
   "id": "1462689a",
   "metadata": {},
   "source": [
    "## Build the Convolutional Neural Network (CNN)"
   ]
  },
  {
   "cell_type": "code",
   "execution_count": 181,
   "id": "13681c5d",
   "metadata": {},
   "outputs": [
    {
     "data": {
      "text/html": [
       "<pre style=\"white-space:pre;overflow-x:auto;line-height:normal;font-family:Menlo,'DejaVu Sans Mono',consolas,'Courier New',monospace\"><span style=\"font-weight: bold\">Model: \"functional_20\"</span>\n",
       "</pre>\n"
      ],
      "text/plain": [
       "\u001b[1mModel: \"functional_20\"\u001b[0m\n"
      ]
     },
     "metadata": {},
     "output_type": "display_data"
    },
    {
     "data": {
      "text/html": [
       "<pre style=\"white-space:pre;overflow-x:auto;line-height:normal;font-family:Menlo,'DejaVu Sans Mono',consolas,'Courier New',monospace\">┏━━━━━━━━━━━━━━━━━━━━━━━━━━━━━━━━━┳━━━━━━━━━━━━━━━━━━━━━━━━┳━━━━━━━━━━━━━━━┓\n",
       "┃<span style=\"font-weight: bold\"> Layer (type)                    </span>┃<span style=\"font-weight: bold\"> Output Shape           </span>┃<span style=\"font-weight: bold\">       Param # </span>┃\n",
       "┡━━━━━━━━━━━━━━━━━━━━━━━━━━━━━━━━━╇━━━━━━━━━━━━━━━━━━━━━━━━╇━━━━━━━━━━━━━━━┩\n",
       "│ input_layer_33 (<span style=\"color: #0087ff; text-decoration-color: #0087ff\">InputLayer</span>)     │ (<span style=\"color: #00d7ff; text-decoration-color: #00d7ff\">None</span>, <span style=\"color: #00af00; text-decoration-color: #00af00\">7</span>, <span style=\"color: #00af00; text-decoration-color: #00af00\">5</span>)           │             <span style=\"color: #00af00; text-decoration-color: #00af00\">0</span> │\n",
       "├─────────────────────────────────┼────────────────────────┼───────────────┤\n",
       "│ conv1d_9 (<span style=\"color: #0087ff; text-decoration-color: #0087ff\">Conv1D</span>)               │ (<span style=\"color: #00d7ff; text-decoration-color: #00d7ff\">None</span>, <span style=\"color: #00af00; text-decoration-color: #00af00\">5</span>, <span style=\"color: #00af00; text-decoration-color: #00af00\">128</span>)         │         <span style=\"color: #00af00; text-decoration-color: #00af00\">2,048</span> │\n",
       "├─────────────────────────────────┼────────────────────────┼───────────────┤\n",
       "│ max_pooling1d_8 (<span style=\"color: #0087ff; text-decoration-color: #0087ff\">MaxPooling1D</span>)  │ (<span style=\"color: #00d7ff; text-decoration-color: #00d7ff\">None</span>, <span style=\"color: #00af00; text-decoration-color: #00af00\">2</span>, <span style=\"color: #00af00; text-decoration-color: #00af00\">128</span>)         │             <span style=\"color: #00af00; text-decoration-color: #00af00\">0</span> │\n",
       "├─────────────────────────────────┼────────────────────────┼───────────────┤\n",
       "│ dropout_33 (<span style=\"color: #0087ff; text-decoration-color: #0087ff\">Dropout</span>)            │ (<span style=\"color: #00d7ff; text-decoration-color: #00d7ff\">None</span>, <span style=\"color: #00af00; text-decoration-color: #00af00\">2</span>, <span style=\"color: #00af00; text-decoration-color: #00af00\">128</span>)         │             <span style=\"color: #00af00; text-decoration-color: #00af00\">0</span> │\n",
       "├─────────────────────────────────┼────────────────────────┼───────────────┤\n",
       "│ flatten_9 (<span style=\"color: #0087ff; text-decoration-color: #0087ff\">Flatten</span>)             │ (<span style=\"color: #00d7ff; text-decoration-color: #00d7ff\">None</span>, <span style=\"color: #00af00; text-decoration-color: #00af00\">256</span>)            │             <span style=\"color: #00af00; text-decoration-color: #00af00\">0</span> │\n",
       "├─────────────────────────────────┼────────────────────────┼───────────────┤\n",
       "│ dense_56 (<span style=\"color: #0087ff; text-decoration-color: #0087ff\">Dense</span>)                │ (<span style=\"color: #00d7ff; text-decoration-color: #00d7ff\">None</span>, <span style=\"color: #00af00; text-decoration-color: #00af00\">64</span>)             │        <span style=\"color: #00af00; text-decoration-color: #00af00\">16,448</span> │\n",
       "├─────────────────────────────────┼────────────────────────┼───────────────┤\n",
       "│ dense_57 (<span style=\"color: #0087ff; text-decoration-color: #0087ff\">Dense</span>)                │ (<span style=\"color: #00d7ff; text-decoration-color: #00d7ff\">None</span>, <span style=\"color: #00af00; text-decoration-color: #00af00\">32</span>)             │         <span style=\"color: #00af00; text-decoration-color: #00af00\">2,080</span> │\n",
       "├─────────────────────────────────┼────────────────────────┼───────────────┤\n",
       "│ dense_58 (<span style=\"color: #0087ff; text-decoration-color: #0087ff\">Dense</span>)                │ (<span style=\"color: #00d7ff; text-decoration-color: #00d7ff\">None</span>, <span style=\"color: #00af00; text-decoration-color: #00af00\">1</span>)              │            <span style=\"color: #00af00; text-decoration-color: #00af00\">33</span> │\n",
       "└─────────────────────────────────┴────────────────────────┴───────────────┘\n",
       "</pre>\n"
      ],
      "text/plain": [
       "┏━━━━━━━━━━━━━━━━━━━━━━━━━━━━━━━━━┳━━━━━━━━━━━━━━━━━━━━━━━━┳━━━━━━━━━━━━━━━┓\n",
       "┃\u001b[1m \u001b[0m\u001b[1mLayer (type)                   \u001b[0m\u001b[1m \u001b[0m┃\u001b[1m \u001b[0m\u001b[1mOutput Shape          \u001b[0m\u001b[1m \u001b[0m┃\u001b[1m \u001b[0m\u001b[1m      Param #\u001b[0m\u001b[1m \u001b[0m┃\n",
       "┡━━━━━━━━━━━━━━━━━━━━━━━━━━━━━━━━━╇━━━━━━━━━━━━━━━━━━━━━━━━╇━━━━━━━━━━━━━━━┩\n",
       "│ input_layer_33 (\u001b[38;5;33mInputLayer\u001b[0m)     │ (\u001b[38;5;45mNone\u001b[0m, \u001b[38;5;34m7\u001b[0m, \u001b[38;5;34m5\u001b[0m)           │             \u001b[38;5;34m0\u001b[0m │\n",
       "├─────────────────────────────────┼────────────────────────┼───────────────┤\n",
       "│ conv1d_9 (\u001b[38;5;33mConv1D\u001b[0m)               │ (\u001b[38;5;45mNone\u001b[0m, \u001b[38;5;34m5\u001b[0m, \u001b[38;5;34m128\u001b[0m)         │         \u001b[38;5;34m2,048\u001b[0m │\n",
       "├─────────────────────────────────┼────────────────────────┼───────────────┤\n",
       "│ max_pooling1d_8 (\u001b[38;5;33mMaxPooling1D\u001b[0m)  │ (\u001b[38;5;45mNone\u001b[0m, \u001b[38;5;34m2\u001b[0m, \u001b[38;5;34m128\u001b[0m)         │             \u001b[38;5;34m0\u001b[0m │\n",
       "├─────────────────────────────────┼────────────────────────┼───────────────┤\n",
       "│ dropout_33 (\u001b[38;5;33mDropout\u001b[0m)            │ (\u001b[38;5;45mNone\u001b[0m, \u001b[38;5;34m2\u001b[0m, \u001b[38;5;34m128\u001b[0m)         │             \u001b[38;5;34m0\u001b[0m │\n",
       "├─────────────────────────────────┼────────────────────────┼───────────────┤\n",
       "│ flatten_9 (\u001b[38;5;33mFlatten\u001b[0m)             │ (\u001b[38;5;45mNone\u001b[0m, \u001b[38;5;34m256\u001b[0m)            │             \u001b[38;5;34m0\u001b[0m │\n",
       "├─────────────────────────────────┼────────────────────────┼───────────────┤\n",
       "│ dense_56 (\u001b[38;5;33mDense\u001b[0m)                │ (\u001b[38;5;45mNone\u001b[0m, \u001b[38;5;34m64\u001b[0m)             │        \u001b[38;5;34m16,448\u001b[0m │\n",
       "├─────────────────────────────────┼────────────────────────┼───────────────┤\n",
       "│ dense_57 (\u001b[38;5;33mDense\u001b[0m)                │ (\u001b[38;5;45mNone\u001b[0m, \u001b[38;5;34m32\u001b[0m)             │         \u001b[38;5;34m2,080\u001b[0m │\n",
       "├─────────────────────────────────┼────────────────────────┼───────────────┤\n",
       "│ dense_58 (\u001b[38;5;33mDense\u001b[0m)                │ (\u001b[38;5;45mNone\u001b[0m, \u001b[38;5;34m1\u001b[0m)              │            \u001b[38;5;34m33\u001b[0m │\n",
       "└─────────────────────────────────┴────────────────────────┴───────────────┘\n"
      ]
     },
     "metadata": {},
     "output_type": "display_data"
    },
    {
     "data": {
      "text/html": [
       "<pre style=\"white-space:pre;overflow-x:auto;line-height:normal;font-family:Menlo,'DejaVu Sans Mono',consolas,'Courier New',monospace\"><span style=\"font-weight: bold\"> Total params: </span><span style=\"color: #00af00; text-decoration-color: #00af00\">20,609</span> (80.50 KB)\n",
       "</pre>\n"
      ],
      "text/plain": [
       "\u001b[1m Total params: \u001b[0m\u001b[38;5;34m20,609\u001b[0m (80.50 KB)\n"
      ]
     },
     "metadata": {},
     "output_type": "display_data"
    },
    {
     "data": {
      "text/html": [
       "<pre style=\"white-space:pre;overflow-x:auto;line-height:normal;font-family:Menlo,'DejaVu Sans Mono',consolas,'Courier New',monospace\"><span style=\"font-weight: bold\"> Trainable params: </span><span style=\"color: #00af00; text-decoration-color: #00af00\">20,609</span> (80.50 KB)\n",
       "</pre>\n"
      ],
      "text/plain": [
       "\u001b[1m Trainable params: \u001b[0m\u001b[38;5;34m20,609\u001b[0m (80.50 KB)\n"
      ]
     },
     "metadata": {},
     "output_type": "display_data"
    },
    {
     "data": {
      "text/html": [
       "<pre style=\"white-space:pre;overflow-x:auto;line-height:normal;font-family:Menlo,'DejaVu Sans Mono',consolas,'Courier New',monospace\"><span style=\"font-weight: bold\"> Non-trainable params: </span><span style=\"color: #00af00; text-decoration-color: #00af00\">0</span> (0.00 B)\n",
       "</pre>\n"
      ],
      "text/plain": [
       "\u001b[1m Non-trainable params: \u001b[0m\u001b[38;5;34m0\u001b[0m (0.00 B)\n"
      ]
     },
     "metadata": {},
     "output_type": "display_data"
    },
    {
     "name": "stdout",
     "output_type": "stream",
     "text": [
      "None\n"
     ]
    }
   ],
   "source": [
    "# Define the CNN model\n",
    "\n",
    "from tensorflow.keras.models import Model\n",
    "from tensorflow.keras.layers import Input\n",
    "from tensorflow.keras.layers import Flatten\n",
    "from tensorflow.keras.layers import Conv2D\n",
    "from tensorflow.keras.layers import MaxPooling2D\n",
    "\n",
    "# input model (CNN with images)\n",
    "visible = Input(shape=(7,5))\n",
    "conv1 = Conv1D(128, kernel_size=3, activation='relu')(visible)\n",
    "pool1 = MaxPooling1D(pool_size=2)(conv1)\n",
    "drop1 = Dropout(0.2)(pool1)\n",
    "flat = Flatten()(drop1)\n",
    "\n",
    "# interpretation model\n",
    "dense1 = Dense(64)(flat)\n",
    "dense2 = Dense(32)(dense1)\n",
    "output = Dense(1)(dense2)\n",
    "\n",
    "# model creation\n",
    "model_cnn = Model(inputs=visible, outputs=output)\n",
    "\n",
    "# summarize layers\n",
    "print(model_cnn.summary())\n",
    "\n",
    "# Compile the model\n",
    "model_cnn.compile(optimizer='adam', loss='mean_squared_error')"
   ]
  },
  {
   "cell_type": "code",
   "execution_count": 182,
   "id": "6a92d4aa",
   "metadata": {},
   "outputs": [
    {
     "name": "stdout",
     "output_type": "stream",
     "text": [
      "Epoch 1/50\n",
      "\u001b[1m209/209\u001b[0m \u001b[32m━━━━━━━━━━━━━━━━━━━━\u001b[0m\u001b[37m\u001b[0m \u001b[1m1s\u001b[0m 2ms/step - loss: 908.8264 - val_loss: 14.9350\n",
      "Epoch 2/50\n",
      "\u001b[1m209/209\u001b[0m \u001b[32m━━━━━━━━━━━━━━━━━━━━\u001b[0m\u001b[37m\u001b[0m \u001b[1m0s\u001b[0m 1ms/step - loss: 13.3501 - val_loss: 4.5384\n",
      "Epoch 3/50\n",
      "\u001b[1m209/209\u001b[0m \u001b[32m━━━━━━━━━━━━━━━━━━━━\u001b[0m\u001b[37m\u001b[0m \u001b[1m0s\u001b[0m 1ms/step - loss: 10.8589 - val_loss: 3.7220\n",
      "Epoch 4/50\n",
      "\u001b[1m209/209\u001b[0m \u001b[32m━━━━━━━━━━━━━━━━━━━━\u001b[0m\u001b[37m\u001b[0m \u001b[1m0s\u001b[0m 1ms/step - loss: 7.9514 - val_loss: 2.7304\n",
      "Epoch 5/50\n",
      "\u001b[1m209/209\u001b[0m \u001b[32m━━━━━━━━━━━━━━━━━━━━\u001b[0m\u001b[37m\u001b[0m \u001b[1m0s\u001b[0m 1ms/step - loss: 8.4879 - val_loss: 3.8097\n",
      "Epoch 6/50\n",
      "\u001b[1m209/209\u001b[0m \u001b[32m━━━━━━━━━━━━━━━━━━━━\u001b[0m\u001b[37m\u001b[0m \u001b[1m0s\u001b[0m 1ms/step - loss: 7.6638 - val_loss: 2.5406\n",
      "Epoch 7/50\n",
      "\u001b[1m209/209\u001b[0m \u001b[32m━━━━━━━━━━━━━━━━━━━━\u001b[0m\u001b[37m\u001b[0m \u001b[1m0s\u001b[0m 1ms/step - loss: 7.3654 - val_loss: 2.6626\n",
      "Epoch 8/50\n",
      "\u001b[1m209/209\u001b[0m \u001b[32m━━━━━━━━━━━━━━━━━━━━\u001b[0m\u001b[37m\u001b[0m \u001b[1m0s\u001b[0m 1ms/step - loss: 8.2590 - val_loss: 2.7874\n",
      "Epoch 9/50\n",
      "\u001b[1m209/209\u001b[0m \u001b[32m━━━━━━━━━━━━━━━━━━━━\u001b[0m\u001b[37m\u001b[0m \u001b[1m0s\u001b[0m 1ms/step - loss: 8.2378 - val_loss: 3.7986\n",
      "Epoch 10/50\n",
      "\u001b[1m209/209\u001b[0m \u001b[32m━━━━━━━━━━━━━━━━━━━━\u001b[0m\u001b[37m\u001b[0m \u001b[1m0s\u001b[0m 1ms/step - loss: 7.4555 - val_loss: 5.4959\n",
      "Epoch 11/50\n",
      "\u001b[1m209/209\u001b[0m \u001b[32m━━━━━━━━━━━━━━━━━━━━\u001b[0m\u001b[37m\u001b[0m \u001b[1m0s\u001b[0m 1ms/step - loss: 8.6608 - val_loss: 5.4572\n",
      "CNN model training complete.\n"
     ]
    }
   ],
   "source": [
    "# Set up callbacks\n",
    "early_stopping = EarlyStopping(monitor='val_loss', patience=5, restore_best_weights=True)\n",
    "model_checkpoint = ModelCheckpoint('best_cnn_model.keras', save_best_only=True, monitor='val_loss')\n",
    "\n",
    "# Train the model\n",
    "history = model_cnn.fit(\n",
    "    X_train, y_train,\n",
    "    validation_data=(X_test, y_test),\n",
    "    epochs=50,\n",
    "    callbacks=[early_stopping, model_checkpoint],\n",
    "    verbose=1\n",
    ")\n",
    "\n",
    "# Print training completion\n",
    "print(\"CNN model training complete.\")\n"
   ]
  },
  {
   "cell_type": "code",
   "execution_count": 183,
   "id": "bc8f3fec",
   "metadata": {},
   "outputs": [
    {
     "name": "stdout",
     "output_type": "stream",
     "text": [
      "\u001b[1m90/90\u001b[0m \u001b[32m━━━━━━━━━━━━━━━━━━━━\u001b[0m\u001b[37m\u001b[0m \u001b[1m0s\u001b[0m 856us/step\n",
      "Root Mean Square Error (RMSE): 1.5939250425437874\n"
     ]
    }
   ],
   "source": [
    "from sklearn.metrics import mean_squared_error\n",
    "import numpy as np\n",
    "\n",
    "# Predict on the test set\n",
    "y_pred_cnn = model_cnn.predict(X_test)\n",
    "\n",
    "# Calculate RMSE\n",
    "rmse = np.sqrt(mean_squared_error(y_test, y_pred_cnn))\n",
    "print(f\"Root Mean Square Error (RMSE): {rmse}\")"
   ]
  },
  {
   "cell_type": "code",
   "execution_count": 184,
   "id": "b9d47166",
   "metadata": {},
   "outputs": [
    {
     "name": "stdout",
     "output_type": "stream",
     "text": [
      "Test RMSE: 1.5939250425437874\n"
     ]
    },
    {
     "data": {
      "image/png": "[encoded data removed]",
      "text/plain": [
       "<Figure size 640x480 with 1 Axes>"
      ]
     },
     "metadata": {},
     "output_type": "display_data"
    }
   ],
   "source": [
    "from sklearn.metrics import mean_squared_error\n",
    "import numpy as np\n",
    "import matplotlib.pyplot as plt\n",
    "\n",
    "# Calculate RMSE\n",
    "rmse = np.sqrt(mean_squared_error(y_test, y_pred_cnn))\n",
    "print(\"Test RMSE:\", rmse)\n",
    "\n",
    "def chart_regression(pred,y,sort=True):\n",
    "    t = pd.DataFrame({'pred' : pred, 'y' : y})\n",
    "    if sort:\n",
    "        t.sort_values(by=['y'],inplace=True)\n",
    "    a = plt.plot(t['pred'].tolist(),label='prediction')\n",
    "    b = plt.plot(t['y'].tolist(),label='expected')\n",
    "    plt.ylabel('output')\n",
    "    plt.legend()\n",
    "    plt.show()\n",
    "\n",
    "chart_regression(y_pred_cnn.flatten(), y_test, sort=True)"
   ]
  },
  {
   "cell_type": "markdown",
   "id": "18284443",
   "metadata": {},
   "source": [
    "## Build the Long Short-Term Memory Model (LSTM)"
   ]
  },
  {
   "cell_type": "code",
   "execution_count": 185,
   "id": "658e25d5",
   "metadata": {},
   "outputs": [
    {
     "name": "stderr",
     "output_type": "stream",
     "text": [
      "c:\\Users\\legow\\anaconda3\\Lib\\site-packages\\keras\\src\\layers\\rnn\\rnn.py:204: UserWarning: Do not pass an `input_shape`/`input_dim` argument to a layer. When using Sequential models, prefer using an `Input(shape)` object as the first layer in the model instead.\n",
      "  super().__init__(**kwargs)\n"
     ]
    },
    {
     "data": {
      "text/html": [
       "<pre style=\"white-space:pre;overflow-x:auto;line-height:normal;font-family:Menlo,'DejaVu Sans Mono',consolas,'Courier New',monospace\"><span style=\"font-weight: bold\">Model: \"sequential_14\"</span>\n",
       "</pre>\n"
      ],
      "text/plain": [
       "\u001b[1mModel: \"sequential_14\"\u001b[0m\n"
      ]
     },
     "metadata": {},
     "output_type": "display_data"
    },
    {
     "data": {
      "text/html": [
       "<pre style=\"white-space:pre;overflow-x:auto;line-height:normal;font-family:Menlo,'DejaVu Sans Mono',consolas,'Courier New',monospace\">┏━━━━━━━━━━━━━━━━━━━━━━━━━━━━━━━━━┳━━━━━━━━━━━━━━━━━━━━━━━━┳━━━━━━━━━━━━━━━┓\n",
       "┃<span style=\"font-weight: bold\"> Layer (type)                    </span>┃<span style=\"font-weight: bold\"> Output Shape           </span>┃<span style=\"font-weight: bold\">       Param # </span>┃\n",
       "┡━━━━━━━━━━━━━━━━━━━━━━━━━━━━━━━━━╇━━━━━━━━━━━━━━━━━━━━━━━━╇━━━━━━━━━━━━━━━┩\n",
       "│ lstm_4 (<span style=\"color: #0087ff; text-decoration-color: #0087ff\">LSTM</span>)                   │ (<span style=\"color: #00d7ff; text-decoration-color: #00d7ff\">None</span>, <span style=\"color: #00af00; text-decoration-color: #00af00\">128</span>)            │        <span style=\"color: #00af00; text-decoration-color: #00af00\">68,608</span> │\n",
       "├─────────────────────────────────┼────────────────────────┼───────────────┤\n",
       "│ dense_59 (<span style=\"color: #0087ff; text-decoration-color: #0087ff\">Dense</span>)                │ (<span style=\"color: #00d7ff; text-decoration-color: #00d7ff\">None</span>, <span style=\"color: #00af00; text-decoration-color: #00af00\">32</span>)             │         <span style=\"color: #00af00; text-decoration-color: #00af00\">4,128</span> │\n",
       "├─────────────────────────────────┼────────────────────────┼───────────────┤\n",
       "│ dense_60 (<span style=\"color: #0087ff; text-decoration-color: #0087ff\">Dense</span>)                │ (<span style=\"color: #00d7ff; text-decoration-color: #00d7ff\">None</span>, <span style=\"color: #00af00; text-decoration-color: #00af00\">1</span>)              │            <span style=\"color: #00af00; text-decoration-color: #00af00\">33</span> │\n",
       "└─────────────────────────────────┴────────────────────────┴───────────────┘\n",
       "</pre>\n"
      ],
      "text/plain": [
       "┏━━━━━━━━━━━━━━━━━━━━━━━━━━━━━━━━━┳━━━━━━━━━━━━━━━━━━━━━━━━┳━━━━━━━━━━━━━━━┓\n",
       "┃\u001b[1m \u001b[0m\u001b[1mLayer (type)                   \u001b[0m\u001b[1m \u001b[0m┃\u001b[1m \u001b[0m\u001b[1mOutput Shape          \u001b[0m\u001b[1m \u001b[0m┃\u001b[1m \u001b[0m\u001b[1m      Param #\u001b[0m\u001b[1m \u001b[0m┃\n",
       "┡━━━━━━━━━━━━━━━━━━━━━━━━━━━━━━━━━╇━━━━━━━━━━━━━━━━━━━━━━━━╇━━━━━━━━━━━━━━━┩\n",
       "│ lstm_4 (\u001b[38;5;33mLSTM\u001b[0m)                   │ (\u001b[38;5;45mNone\u001b[0m, \u001b[38;5;34m128\u001b[0m)            │        \u001b[38;5;34m68,608\u001b[0m │\n",
       "├─────────────────────────────────┼────────────────────────┼───────────────┤\n",
       "│ dense_59 (\u001b[38;5;33mDense\u001b[0m)                │ (\u001b[38;5;45mNone\u001b[0m, \u001b[38;5;34m32\u001b[0m)             │         \u001b[38;5;34m4,128\u001b[0m │\n",
       "├─────────────────────────────────┼────────────────────────┼───────────────┤\n",
       "│ dense_60 (\u001b[38;5;33mDense\u001b[0m)                │ (\u001b[38;5;45mNone\u001b[0m, \u001b[38;5;34m1\u001b[0m)              │            \u001b[38;5;34m33\u001b[0m │\n",
       "└─────────────────────────────────┴────────────────────────┴───────────────┘\n"
      ]
     },
     "metadata": {},
     "output_type": "display_data"
    },
    {
     "data": {
      "text/html": [
       "<pre style=\"white-space:pre;overflow-x:auto;line-height:normal;font-family:Menlo,'DejaVu Sans Mono',consolas,'Courier New',monospace\"><span style=\"font-weight: bold\"> Total params: </span><span style=\"color: #00af00; text-decoration-color: #00af00\">72,769</span> (284.25 KB)\n",
       "</pre>\n"
      ],
      "text/plain": [
       "\u001b[1m Total params: \u001b[0m\u001b[38;5;34m72,769\u001b[0m (284.25 KB)\n"
      ]
     },
     "metadata": {},
     "output_type": "display_data"
    },
    {
     "data": {
      "text/html": [
       "<pre style=\"white-space:pre;overflow-x:auto;line-height:normal;font-family:Menlo,'DejaVu Sans Mono',consolas,'Courier New',monospace\"><span style=\"font-weight: bold\"> Trainable params: </span><span style=\"color: #00af00; text-decoration-color: #00af00\">72,769</span> (284.25 KB)\n",
       "</pre>\n"
      ],
      "text/plain": [
       "\u001b[1m Trainable params: \u001b[0m\u001b[38;5;34m72,769\u001b[0m (284.25 KB)\n"
      ]
     },
     "metadata": {},
     "output_type": "display_data"
    },
    {
     "data": {
      "text/html": [
       "<pre style=\"white-space:pre;overflow-x:auto;line-height:normal;font-family:Menlo,'DejaVu Sans Mono',consolas,'Courier New',monospace\"><span style=\"font-weight: bold\"> Non-trainable params: </span><span style=\"color: #00af00; text-decoration-color: #00af00\">0</span> (0.00 B)\n",
       "</pre>\n"
      ],
      "text/plain": [
       "\u001b[1m Non-trainable params: \u001b[0m\u001b[38;5;34m0\u001b[0m (0.00 B)\n"
      ]
     },
     "metadata": {},
     "output_type": "display_data"
    },
    {
     "name": "stdout",
     "output_type": "stream",
     "text": [
      "None\n"
     ]
    }
   ],
   "source": [
    "from tensorflow.keras.layers import LSTM, Dense, Dropout\n",
    "\n",
    "# Define the FCNN model\n",
    "model_lstm = Sequential([\n",
    "    LSTM(128, activation='relu', dropout=0.2, recurrent_dropout=0.2, input_shape=(7, 5)),\n",
    "    Dense(32, activation='relu'),\n",
    "    Dense(1)  # Output layer with a single neuron for regression\n",
    "])\n",
    "\n",
    "print(model_lstm.summary())\n",
    "\n",
    "# Compile the model\n",
    "model_lstm.compile(optimizer='adam', loss='mean_squared_error')"
   ]
  },
  {
   "cell_type": "code",
   "execution_count": 186,
   "id": "6de4464c",
   "metadata": {},
   "outputs": [
    {
     "name": "stdout",
     "output_type": "stream",
     "text": [
      "Epoch 1/100\n",
      "\u001b[1m209/209\u001b[0m \u001b[32m━━━━━━━━━━━━━━━━━━━━\u001b[0m\u001b[37m\u001b[0m \u001b[1m2s\u001b[0m 3ms/step - loss: 1496.7994 - val_loss: 21.1112\n",
      "Epoch 2/100\n",
      "\u001b[1m209/209\u001b[0m \u001b[32m━━━━━━━━━━━━━━━━━━━━\u001b[0m\u001b[37m\u001b[0m \u001b[1m0s\u001b[0m 2ms/step - loss: 82.1516 - val_loss: 204.4848\n",
      "Epoch 3/100\n",
      "\u001b[1m209/209\u001b[0m \u001b[32m━━━━━━━━━━━━━━━━━━━━\u001b[0m\u001b[37m\u001b[0m \u001b[1m0s\u001b[0m 2ms/step - loss: 55.4801 - val_loss: 148.0024\n",
      "Epoch 4/100\n",
      "\u001b[1m209/209\u001b[0m \u001b[32m━━━━━━━━━━━━━━━━━━━━\u001b[0m\u001b[37m\u001b[0m \u001b[1m0s\u001b[0m 2ms/step - loss: 49.7335 - val_loss: 60.9282\n",
      "Epoch 5/100\n",
      "\u001b[1m209/209\u001b[0m \u001b[32m━━━━━━━━━━━━━━━━━━━━\u001b[0m\u001b[37m\u001b[0m \u001b[1m0s\u001b[0m 2ms/step - loss: 35.2029 - val_loss: 118.4691\n",
      "Epoch 6/100\n",
      "\u001b[1m209/209\u001b[0m \u001b[32m━━━━━━━━━━━━━━━━━━━━\u001b[0m\u001b[37m\u001b[0m \u001b[1m0s\u001b[0m 2ms/step - loss: 35.7706 - val_loss: 78.8884\n",
      "LSTM model training complete.\n"
     ]
    }
   ],
   "source": [
    "# Set up callbacks\n",
    "early_stopping = EarlyStopping(monitor='val_loss', patience=5, restore_best_weights=True)\n",
    "model_checkpoint = ModelCheckpoint('best_lstm_model.keras', save_best_only=True, monitor='val_loss')\n",
    "\n",
    "# Train the model\n",
    "history = model_lstm.fit(\n",
    "    X_train, y_train,\n",
    "    validation_data=(X_test, y_test),\n",
    "    epochs=100,\n",
    "    callbacks=[early_stopping, model_checkpoint],\n",
    "    verbose=1\n",
    ")\n",
    "\n",
    "# Print training completion\n",
    "print(\"LSTM model training complete.\")\n"
   ]
  },
  {
   "cell_type": "code",
   "execution_count": 187,
   "id": "5413893d",
   "metadata": {},
   "outputs": [
    {
     "name": "stdout",
     "output_type": "stream",
     "text": [
      "\u001b[1m90/90\u001b[0m \u001b[32m━━━━━━━━━━━━━━━━━━━━\u001b[0m\u001b[37m\u001b[0m \u001b[1m0s\u001b[0m 2ms/step\n",
      "Root Mean Square Error (RMSE): 4.594687041934837\n"
     ]
    }
   ],
   "source": [
    "from sklearn.metrics import mean_squared_error\n",
    "import numpy as np\n",
    "\n",
    "# Predict on the test set\n",
    "y_pred_lstm = model_lstm.predict(X_test)\n",
    "\n",
    "# Calculate RMSE\n",
    "rmse = np.sqrt(mean_squared_error(y_test, y_pred_lstm))\n",
    "print(f\"Root Mean Square Error (RMSE): {rmse}\")"
   ]
  },
  {
   "cell_type": "code",
   "execution_count": 188,
   "id": "04e09e8c",
   "metadata": {},
   "outputs": [
    {
     "name": "stdout",
     "output_type": "stream",
     "text": [
      "Test RMSE: 4.594687041934837\n"
     ]
    },
    {
     "data": {
      "image/png": "[encoded data removed]",
      "text/plain": [
       "<Figure size 640x480 with 1 Axes>"
      ]
     },
     "metadata": {},
     "output_type": "display_data"
    }
   ],
   "source": [
    "from sklearn.metrics import mean_squared_error\n",
    "import numpy as np\n",
    "import matplotlib.pyplot as plt\n",
    "\n",
    "# Calculate RMSE\n",
    "rmse = np.sqrt(mean_squared_error(y_test, y_pred_lstm))\n",
    "print(\"Test RMSE:\", rmse)\n",
    "\n",
    "def chart_regression(pred,y,sort=True):\n",
    "    t = pd.DataFrame({'pred' : pred, 'y' : y})\n",
    "    if sort:\n",
    "        t.sort_values(by=['y'],inplace=True)\n",
    "    a = plt.plot(t['pred'].tolist(),label='prediction')\n",
    "    b = plt.plot(t['y'].tolist(),label='expected')\n",
    "    plt.ylabel('output')\n",
    "    plt.legend()\n",
    "    plt.show()\n",
    "\n",
    "chart_regression(y_pred_lstm.flatten(), y_test, sort=True)"
   ]
  }
 ],
 "metadata": {
  "kernelspec": {
   "display_name": "base",
   "language": "python",
   "name": "python3"
  },
  "language_info": {
   "codemirror_mode": {
    "name": "ipython",
    "version": 3
   },
   "file_extension": ".py",
   "mimetype": "text/x-python",
   "name": "python",
   "nbconvert_exporter": "python",
   "pygments_lexer": "ipython3",
   "version": "3.12.4"
  }
 },
 "nbformat": 4,
 "nbformat_minor": 5
}
