{
 "cells": [
  {
   "cell_type": "markdown",
   "id": "ec575970-aefa-472b-ad80-c053eb8c9c64",
   "metadata": {},
   "source": [
    "#### CSC 180 Intelligent Systems \n",
    "\n",
    "#### William Lorence, Ajaydeep Singh, Romin Akoliya, Abdurraziq Paikur\n",
    "\n",
    "#### California State University, Sacramento\n",
    "\n",
    "# Project 4: Time Series Forecasting\n",
    "\n",
    "## Creating the Dataframe"
   ]
  },
  {
   "cell_type": "code",
   "execution_count": 267,
   "id": "ab219583-9a83-4a42-ab9e-8bcf1457c7f9",
   "metadata": {},
   "outputs": [
    {
     "name": "stdout",
     "output_type": "stream",
     "text": [
      "./AAPL.csv\n",
      "         Date      Open      High       Low     Close  Adj Close       Volume\n",
      "0  1980-12-12  0.513393  0.515625  0.513393  0.513393   0.023186  117258400.0\n",
      "1  1980-12-15  0.488839  0.488839  0.486607  0.486607   0.021977   43971200.0\n",
      "2  1980-12-16  0.453125  0.453125  0.450893  0.450893   0.020364   26432000.0\n",
      "3  1980-12-17  0.462054  0.464286  0.462054  0.462054   0.020868   21610400.0\n",
      "4  1980-12-18  0.475446  0.477679  0.475446  0.475446   0.021473   18362400.0\n"
     ]
    }
   ],
   "source": [
    "import csv\n",
    "import pandas as pd\n",
    "import tensorflow as tf\n",
    "import numpy as np\n",
    "from tensorflow.keras import Sequential\n",
    "from tensorflow.keras.layers import Dense\n",
    "from tensorflow.keras.callbacks import EarlyStopping, ModelCheckpoint\n",
    "\n",
    "#load data\n",
    "AAPL_path = \"./AAPL.csv\"\n",
    "\n",
    "df = pd.read_csv(AAPL_path)\n",
    "\n",
    "print(AAPL_path)\n",
    "print(df.head())"
   ]
  },
  {
   "cell_type": "code",
   "execution_count": 268,
   "id": "413f3261-9135-46cd-a382-1f1932d286a8",
   "metadata": {},
   "outputs": [
    {
     "name": "stdout",
     "output_type": "stream",
     "text": [
      "First 5 rows of the filtered data:\n",
      "       Open      High       Low     Close       Volume\n",
      "0  0.513393  0.515625  0.513393  0.513393  117258400.0\n",
      "1  0.488839  0.488839  0.486607  0.486607   43971200.0\n",
      "2  0.453125  0.453125  0.450893  0.450893   26432000.0\n",
      "3  0.462054  0.464286  0.462054  0.462054   21610400.0\n",
      "4  0.475446  0.477679  0.475446  0.475446   18362400.0\n"
     ]
    }
   ],
   "source": [
    "# filter out dropping Date and Adj Close \n",
    "\n",
    "df_filtered = df.drop(columns=['Date', 'Adj Close'])\n",
    "print(\"First 5 rows of the filtered data:\")\n",
    "print(df_filtered.head())"
   ]
  },
  {
   "cell_type": "code",
   "execution_count": 269,
   "id": "fb654dce",
   "metadata": {},
   "outputs": [],
   "source": [
    "# drop rows with NaN values\n",
    "\n",
    "df_filtered = df_filtered.dropna()"
   ]
  },
  {
   "cell_type": "code",
   "execution_count": 270,
   "id": "dc5ea4f7",
   "metadata": {},
   "outputs": [
    {
     "data": {
      "text/plain": [
       "[0.513393, 0.486607, 0.450893, 0.462054, 0.475446]"
      ]
     },
     "execution_count": 270,
     "metadata": {},
     "output_type": "execute_result"
    }
   ],
   "source": [
    "close = df_filtered['Close'].tolist()\n",
    "close[0:5]"
   ]
  },
  {
   "cell_type": "markdown",
   "id": "c6cf9470-655b-4551-b9d5-92c05ae1aa3b",
   "metadata": {},
   "source": [
    "## Normalizing Input Features"
   ]
  },
  {
   "cell_type": "code",
   "execution_count": 271,
   "id": "36d8e524",
   "metadata": {},
   "outputs": [
    {
     "name": "stdout",
     "output_type": "stream",
     "text": [
      "Sample of scaled data (first 5 rows):\n"
     ]
    },
    {
     "data": {
      "text/html": [
       "<div>\n",
       "<style scoped>\n",
       "    .dataframe tbody tr th:only-of-type {\n",
       "        vertical-align: middle;\n",
       "    }\n",
       "\n",
       "    .dataframe tbody tr th {\n",
       "        vertical-align: top;\n",
       "    }\n",
       "\n",
       "    .dataframe thead th {\n",
       "        text-align: right;\n",
       "    }\n",
       "</style>\n",
       "<table border=\"1\" class=\"dataframe\">\n",
       "  <thead>\n",
       "    <tr style=\"text-align: right;\">\n",
       "      <th></th>\n",
       "      <th>Open</th>\n",
       "      <th>High</th>\n",
       "      <th>Low</th>\n",
       "      <th>Close</th>\n",
       "      <th>Volume</th>\n",
       "    </tr>\n",
       "  </thead>\n",
       "  <tbody>\n",
       "    <tr>\n",
       "      <th>0</th>\n",
       "      <td>-0.547665</td>\n",
       "      <td>-0.548357</td>\n",
       "      <td>-0.546670</td>\n",
       "      <td>-0.547549</td>\n",
       "      <td>0.339526</td>\n",
       "    </tr>\n",
       "    <tr>\n",
       "      <th>1</th>\n",
       "      <td>-0.548200</td>\n",
       "      <td>-0.548935</td>\n",
       "      <td>-0.547258</td>\n",
       "      <td>-0.548132</td>\n",
       "      <td>-0.503884</td>\n",
       "    </tr>\n",
       "    <tr>\n",
       "      <th>2</th>\n",
       "      <td>-0.548977</td>\n",
       "      <td>-0.549706</td>\n",
       "      <td>-0.548042</td>\n",
       "      <td>-0.548909</td>\n",
       "      <td>-0.705730</td>\n",
       "    </tr>\n",
       "    <tr>\n",
       "      <th>3</th>\n",
       "      <td>-0.548782</td>\n",
       "      <td>-0.549465</td>\n",
       "      <td>-0.547797</td>\n",
       "      <td>-0.548666</td>\n",
       "      <td>-0.761218</td>\n",
       "    </tr>\n",
       "    <tr>\n",
       "      <th>4</th>\n",
       "      <td>-0.548491</td>\n",
       "      <td>-0.549176</td>\n",
       "      <td>-0.547503</td>\n",
       "      <td>-0.548374</td>\n",
       "      <td>-0.798597</td>\n",
       "    </tr>\n",
       "  </tbody>\n",
       "</table>\n",
       "</div>"
      ],
      "text/plain": [
       "       Open      High       Low     Close    Volume\n",
       "0 -0.547665 -0.548357 -0.546670 -0.547549  0.339526\n",
       "1 -0.548200 -0.548935 -0.547258 -0.548132 -0.503884\n",
       "2 -0.548977 -0.549706 -0.548042 -0.548909 -0.705730\n",
       "3 -0.548782 -0.549465 -0.547797 -0.548666 -0.761218\n",
       "4 -0.548491 -0.549176 -0.547503 -0.548374 -0.798597"
      ]
     },
     "execution_count": 271,
     "metadata": {},
     "output_type": "execute_result"
    }
   ],
   "source": [
    "df_scaled = (df_filtered - df_filtered.mean()) / df_filtered.std()\n",
    "\n",
    "# Confirm the normalization\n",
    "print(\"Sample of scaled data (first 5 rows):\")\n",
    "df_scaled[0:5]"
   ]
  },
  {
   "cell_type": "markdown",
   "id": "b65b06b2",
   "metadata": {},
   "source": [
    "## Creating Windows to Send Data Properly"
   ]
  },
  {
   "cell_type": "code",
   "execution_count": 272,
   "id": "d70c3595",
   "metadata": {},
   "outputs": [],
   "source": [
    "def to_sequences(SEQUENCE_SIZE, data, output):\n",
    "    x = []\n",
    "    y = []\n",
    "\n",
    "    for i in range(len(data)-SEQUENCE_SIZE-1):\n",
    "        #print(i)\n",
    "        window = data.iloc[i:i + SEQUENCE_SIZE].values.flatten()\n",
    "        after_window = output[i+SEQUENCE_SIZE]\n",
    "        window = [[x] for x in window]\n",
    "        #print(\"{} - {}\".format(window,after_window))\n",
    "        x.append(window)\n",
    "        y.append(after_window)\n",
    "        \n",
    "    return np.array(x),np.array(y)"
   ]
  },
  {
   "cell_type": "code",
   "execution_count": 273,
   "id": "87abab80",
   "metadata": {},
   "outputs": [
    {
     "name": "stdout",
     "output_type": "stream",
     "text": [
      "Shape of X: (9547, 35, 1)\n",
      "Shape of y: (9547,)\n"
     ]
    },
    {
     "data": {
      "text/plain": [
       "array([[[-0.54766515],\n",
       "        [-0.54835724],\n",
       "        [-0.54667033],\n",
       "        [-0.54754873],\n",
       "        [ 0.33952598],\n",
       "        [-0.54819953],\n",
       "        [-0.54893537],\n",
       "        [-0.54725828],\n",
       "        [-0.5481316 ],\n",
       "        [-0.50388387],\n",
       "        [-0.5489768 ],\n",
       "        [-0.54970621],\n",
       "        [-0.5480422 ],\n",
       "        [-0.54890874],\n",
       "        [-0.70572994],\n",
       "        [-0.54878248],\n",
       "        [-0.54946531],\n",
       "        [-0.54779722],\n",
       "        [-0.54866587],\n",
       "        [-0.76121828],\n",
       "        [-0.54849102],\n",
       "        [-0.54917625],\n",
       "        [-0.54750326],\n",
       "        [-0.54837446],\n",
       "        [-0.79859718],\n",
       "        [-0.54785948],\n",
       "        [-0.54854996],\n",
       "        [-0.54686632],\n",
       "        [-0.54774303],\n",
       "        [-0.87000378],\n",
       "        [-0.54732509],\n",
       "        [-0.54801999],\n",
       "        [-0.54632737],\n",
       "        [-0.54720873],\n",
       "        [-0.90242031]],\n",
       "\n",
       "       [[-0.54819953],\n",
       "        [-0.54893537],\n",
       "        [-0.54725828],\n",
       "        [-0.5481316 ],\n",
       "        [-0.50388387],\n",
       "        [-0.5489768 ],\n",
       "        [-0.54970621],\n",
       "        [-0.5480422 ],\n",
       "        [-0.54890874],\n",
       "        [-0.70572994],\n",
       "        [-0.54878248],\n",
       "        [-0.54946531],\n",
       "        [-0.54779722],\n",
       "        [-0.54866587],\n",
       "        [-0.76121828],\n",
       "        [-0.54849102],\n",
       "        [-0.54917625],\n",
       "        [-0.54750326],\n",
       "        [-0.54837446],\n",
       "        [-0.79859718],\n",
       "        [-0.54785948],\n",
       "        [-0.54854996],\n",
       "        [-0.54686632],\n",
       "        [-0.54774303],\n",
       "        [-0.87000378],\n",
       "        [-0.54732509],\n",
       "        [-0.54801999],\n",
       "        [-0.54632737],\n",
       "        [-0.54720873],\n",
       "        [-0.90242031],\n",
       "        [-0.5468393 ],\n",
       "        [-0.54753823],\n",
       "        [-0.54583743],\n",
       "        [-0.54672302],\n",
       "        [-0.87483726]],\n",
       "\n",
       "       [[-0.5489768 ],\n",
       "        [-0.54970621],\n",
       "        [-0.5480422 ],\n",
       "        [-0.54890874],\n",
       "        [-0.70572994],\n",
       "        [-0.54878248],\n",
       "        [-0.54946531],\n",
       "        [-0.54779722],\n",
       "        [-0.54866587],\n",
       "        [-0.76121828],\n",
       "        [-0.54849102],\n",
       "        [-0.54917625],\n",
       "        [-0.54750326],\n",
       "        [-0.54837446],\n",
       "        [-0.79859718],\n",
       "        [-0.54785948],\n",
       "        [-0.54854996],\n",
       "        [-0.54686632],\n",
       "        [-0.54774303],\n",
       "        [-0.87000378],\n",
       "        [-0.54732509],\n",
       "        [-0.54801999],\n",
       "        [-0.54632737],\n",
       "        [-0.54720873],\n",
       "        [-0.90242031],\n",
       "        [-0.5468393 ],\n",
       "        [-0.54753823],\n",
       "        [-0.54583743],\n",
       "        [-0.54672302],\n",
       "        [-0.87483726],\n",
       "        [-0.54620776],\n",
       "        [-0.54691192],\n",
       "        [-0.54520049],\n",
       "        [-0.54609159],\n",
       "        [-0.87180828]],\n",
       "\n",
       "       [[-0.54878248],\n",
       "        [-0.54946531],\n",
       "        [-0.54779722],\n",
       "        [-0.54866587],\n",
       "        [-0.76121828],\n",
       "        [-0.54849102],\n",
       "        [-0.54917625],\n",
       "        [-0.54750326],\n",
       "        [-0.54837446],\n",
       "        [-0.79859718],\n",
       "        [-0.54785948],\n",
       "        [-0.54854996],\n",
       "        [-0.54686632],\n",
       "        [-0.54774303],\n",
       "        [-0.87000378],\n",
       "        [-0.54732509],\n",
       "        [-0.54801999],\n",
       "        [-0.54632737],\n",
       "        [-0.54720873],\n",
       "        [-0.90242031],\n",
       "        [-0.5468393 ],\n",
       "        [-0.54753823],\n",
       "        [-0.54583743],\n",
       "        [-0.54672302],\n",
       "        [-0.87483726],\n",
       "        [-0.54620776],\n",
       "        [-0.54691192],\n",
       "        [-0.54520049],\n",
       "        [-0.54609159],\n",
       "        [-0.87180828],\n",
       "        [-0.54504184],\n",
       "        [-0.54575564],\n",
       "        [-0.54402459],\n",
       "        [-0.54492585],\n",
       "        [-0.8500254 ]],\n",
       "\n",
       "       [[-0.54849102],\n",
       "        [-0.54917625],\n",
       "        [-0.54750326],\n",
       "        [-0.54837446],\n",
       "        [-0.79859718],\n",
       "        [-0.54785948],\n",
       "        [-0.54854996],\n",
       "        [-0.54686632],\n",
       "        [-0.54774303],\n",
       "        [-0.87000378],\n",
       "        [-0.54732509],\n",
       "        [-0.54801999],\n",
       "        [-0.54632737],\n",
       "        [-0.54720873],\n",
       "        [-0.90242031],\n",
       "        [-0.5468393 ],\n",
       "        [-0.54753823],\n",
       "        [-0.54583743],\n",
       "        [-0.54672302],\n",
       "        [-0.87483726],\n",
       "        [-0.54620776],\n",
       "        [-0.54691192],\n",
       "        [-0.54520049],\n",
       "        [-0.54609159],\n",
       "        [-0.87180828],\n",
       "        [-0.54504184],\n",
       "        [-0.54575564],\n",
       "        [-0.54402459],\n",
       "        [-0.54492585],\n",
       "        [-0.8500254 ],\n",
       "        [-0.54484753],\n",
       "        [-0.54556295],\n",
       "        [-0.54382862],\n",
       "        [-0.54473158],\n",
       "        [-0.74188437]]])"
      ]
     },
     "execution_count": 273,
     "metadata": {},
     "output_type": "execute_result"
    }
   ],
   "source": [
    "SEQUENCE_SIZE = 7\n",
    "X,y = to_sequences(SEQUENCE_SIZE, df_scaled, close)\n",
    "\n",
    "print(\"Shape of X: {}\".format(X.shape))\n",
    "print(\"Shape of y: {}\".format(y.shape))\n",
    "\n",
    "X[0:5]"
   ]
  },
  {
   "cell_type": "code",
   "execution_count": 274,
   "id": "18bfda13",
   "metadata": {},
   "outputs": [
    {
     "data": {
      "text/plain": [
       "array([0.551339, 0.580357, 0.633929, 0.642857, 0.627232])"
      ]
     },
     "execution_count": 274,
     "metadata": {},
     "output_type": "execute_result"
    }
   ],
   "source": [
    "y[0:5]"
   ]
  },
  {
   "cell_type": "markdown",
   "id": "ff05719d-7149-4c9c-951c-94e381216d43",
   "metadata": {},
   "source": [
    "## Data Splitting and Preparation"
   ]
  },
  {
   "cell_type": "code",
   "execution_count": 275,
   "id": "4b343133",
   "metadata": {},
   "outputs": [
    {
     "name": "stdout",
     "output_type": "stream",
     "text": [
      "Training set has 6682 records.\n",
      "Test set has 2865 records.\n",
      "\n",
      "Shape of X_train: (6682, 35, 1)\n",
      "Shape of y_train: (6682,)\n",
      "Shape of X_test: (2865, 35, 1)\n",
      "Shape of y_test: (2865,)\n"
     ]
    }
   ],
   "source": [
    "from sklearn.model_selection import train_test_split\n",
    "\n",
    "X_train, X_test, y_train, y_test = train_test_split(X, y, test_size=0.3, random_state=1249)\n",
    "\n",
    "print(\"Training set has {} records.\".format(len(X_train)))\n",
    "print(\"Test set has {} records.\".format(len(X_test)))\n",
    "print(\"\")\n",
    "print(\"Shape of X_train: {}\".format(X_train.shape))\n",
    "print(\"Shape of y_train: {}\".format(y_train.shape))\n",
    "print(\"Shape of X_test: {}\".format(X_test.shape))\n",
    "print(\"Shape of y_test: {}\".format(y_test.shape))"
   ]
  },
  {
   "cell_type": "code",
   "execution_count": 276,
   "id": "08c81c15",
   "metadata": {},
   "outputs": [
    {
     "data": {
      "text/plain": [
       "array([[[-0.55271744],\n",
       "        [-0.5533677 ],\n",
       "        [-0.5521088 ],\n",
       "        [-0.55294018],\n",
       "        [ 0.08199822],\n",
       "        [-0.5530575 ],\n",
       "        [-0.55341588],\n",
       "        [-0.55215779],\n",
       "        [-0.55298875],\n",
       "        [ 0.61754768],\n",
       "        [-0.5530575 ],\n",
       "        [-0.55370495],\n",
       "        [-0.5521088 ],\n",
       "        [-0.55294018],\n",
       "        [-0.32994307],\n",
       "        [-0.55291177],\n",
       "        [-0.55351223],\n",
       "        [-0.55196182],\n",
       "        [-0.55279448],\n",
       "        [-0.24687168],\n",
       "        [-0.55276602],\n",
       "        [-0.5533677 ],\n",
       "        [-0.55181482],\n",
       "        [-0.55264875],\n",
       "        [-0.51509754],\n",
       "        [-0.55271744],\n",
       "        [-0.55341588],\n",
       "        [-0.55176583],\n",
       "        [-0.55260018],\n",
       "        [-0.46096257],\n",
       "        [-0.55257171],\n",
       "        [-0.55312681],\n",
       "        [-0.55161886],\n",
       "        [-0.55245448],\n",
       "        [-0.53191804]],\n",
       "\n",
       "       [[-0.54926828],\n",
       "        [-0.54965803],\n",
       "        [-0.54843416],\n",
       "        [-0.54890874],\n",
       "        [-0.5005971 ],\n",
       "        [-0.54902538],\n",
       "        [-0.54956168],\n",
       "        [-0.54809119],\n",
       "        [-0.54886017],\n",
       "        [-0.71836144],\n",
       "        [-0.5489768 ],\n",
       "        [-0.54970621],\n",
       "        [-0.54823819],\n",
       "        [-0.54910303],\n",
       "        [-0.7331841 ],\n",
       "        [-0.54921971],\n",
       "        [-0.54989893],\n",
       "        [-0.54828718],\n",
       "        [-0.5491516 ],\n",
       "        [-0.79273256],\n",
       "        [-0.54926828],\n",
       "        [-0.54989893],\n",
       "        [-0.54833617],\n",
       "        [-0.54905446],\n",
       "        [-0.71339906],\n",
       "        [-0.54917113],\n",
       "        [-0.54980256],\n",
       "        [-0.54823819],\n",
       "        [-0.54910303],\n",
       "        [-0.76340946],\n",
       "        [-0.54921971],\n",
       "        [-0.54985073],\n",
       "        [-0.54838516],\n",
       "        [-0.54910303],\n",
       "        [-0.67627795]],\n",
       "\n",
       "       [[-0.53105088],\n",
       "        [-0.53096514],\n",
       "        [-0.53010998],\n",
       "        [-0.53006295],\n",
       "        [-0.46905059],\n",
       "        [-0.53066224],\n",
       "        [-0.53115786],\n",
       "        [-0.52971802],\n",
       "        [-0.53035438],\n",
       "        [-0.87097047],\n",
       "        [-0.53046794],\n",
       "        [-0.53115786],\n",
       "        [-0.52971802],\n",
       "        [-0.53035438],\n",
       "        [-0.6089637 ],\n",
       "        [-0.53046794],\n",
       "        [-0.53115786],\n",
       "        [-0.52971802],\n",
       "        [-0.53016009],\n",
       "        [-0.74330219],\n",
       "        [-0.53027361],\n",
       "        [-0.5301943 ],\n",
       "        [-0.52913007],\n",
       "        [-0.52948008],\n",
       "        [-0.52702012],\n",
       "        [-0.52949634],\n",
       "        [-0.52942347],\n",
       "        [-0.52854213],\n",
       "        [-0.52860578],\n",
       "        [-0.39951295],\n",
       "        [-0.52910771],\n",
       "        [-0.52874898],\n",
       "        [-0.52815017],\n",
       "        [-0.52821721],\n",
       "        [-0.04979464]],\n",
       "\n",
       "       [[ 1.50414418],\n",
       "        [ 1.5414551 ],\n",
       "        [ 1.51302695],\n",
       "        [ 1.55940723],\n",
       "        [-0.26859357],\n",
       "        [ 1.54070723],\n",
       "        [ 1.52785753],\n",
       "        [ 1.53607435],\n",
       "        [ 1.53960564],\n",
       "        [-0.53872749],\n",
       "        [ 1.51785526],\n",
       "        [ 1.51339661],\n",
       "        [ 1.51149048],\n",
       "        [ 1.49717352],\n",
       "        [-0.57999965],\n",
       "        [ 1.50871454],\n",
       "        [ 1.53066333],\n",
       "        [ 1.50710058],\n",
       "        [ 1.53786478],\n",
       "        [-0.48094671],\n",
       "        [ 1.52743136],\n",
       "        [ 1.54123939],\n",
       "        [ 1.53146489],\n",
       "        [ 1.54330481],\n",
       "        [-0.4751074 ],\n",
       "        [ 1.54179533],\n",
       "        [ 1.53239005],\n",
       "        [ 1.49854015],\n",
       "        [ 1.48716374],\n",
       "        [-0.47572425],\n",
       "        [ 1.46801633],\n",
       "        [ 1.50605812],\n",
       "        [ 1.48427274],\n",
       "        [ 1.50870635],\n",
       "        [-0.38822332]],\n",
       "\n",
       "       [[-0.52531847],\n",
       "        [-0.52614739],\n",
       "        [-0.52452454],\n",
       "        [-0.5251572 ],\n",
       "        [-0.38046904],\n",
       "        [-0.5255128 ],\n",
       "        [-0.52634011],\n",
       "        [-0.52462252],\n",
       "        [-0.5256915 ],\n",
       "        [-0.65952189],\n",
       "        [-0.52570713],\n",
       "        [-0.52653281],\n",
       "        [-0.5258964 ],\n",
       "        [-0.52685721],\n",
       "        [-0.14224298],\n",
       "        [-0.52726166],\n",
       "        [-0.52788178],\n",
       "        [-0.52648433],\n",
       "        [-0.52700294],\n",
       "        [-0.16573368],\n",
       "        [-0.52687303],\n",
       "        [-0.52720729],\n",
       "        [-0.52658233],\n",
       "        [-0.52748864],\n",
       "        [-0.10447739],\n",
       "        [-0.5276503 ],\n",
       "        [-0.52836357],\n",
       "        [-0.52775821],\n",
       "        [-0.52841151],\n",
       "        [ 0.6266024 ],\n",
       "        [-0.52910771],\n",
       "        [-0.52942347],\n",
       "        [-0.5280645 ],\n",
       "        [-0.52899438],\n",
       "        [-0.23652804]]])"
      ]
     },
     "execution_count": 276,
     "metadata": {},
     "output_type": "execute_result"
    }
   ],
   "source": [
    "X_train[0:5]"
   ]
  },
  {
   "cell_type": "code",
   "execution_count": 277,
   "id": "4cebb270",
   "metadata": {},
   "outputs": [
    {
     "data": {
      "text/plain": [
       "array([ 0.308036,  0.466518,  1.410714, 94.989998,  1.410714])"
      ]
     },
     "execution_count": 277,
     "metadata": {},
     "output_type": "execute_result"
    }
   ],
   "source": [
    "y_train[0:5]"
   ]
  },
  {
   "cell_type": "markdown",
   "id": "9281cac3-85f4-4829-982a-4d07ea293182",
   "metadata": {},
   "source": [
    "## Build the Fully-Connected Neural Network (FCNN)"
   ]
  },
  {
   "cell_type": "code",
   "execution_count": 278,
   "id": "efe7c01c-ff49-45b1-b3e3-91826f59fbcb",
   "metadata": {},
   "outputs": [
    {
     "name": "stderr",
     "output_type": "stream",
     "text": [
      "c:\\Users\\legow\\anaconda3\\Lib\\site-packages\\keras\\src\\layers\\core\\dense.py:87: UserWarning: Do not pass an `input_shape`/`input_dim` argument to a layer. When using Sequential models, prefer using an `Input(shape)` object as the first layer in the model instead.\n",
      "  super().__init__(activity_regularizer=activity_regularizer, **kwargs)\n"
     ]
    },
    {
     "data": {
      "text/html": [
       "<pre style=\"white-space:pre;overflow-x:auto;line-height:normal;font-family:Menlo,'DejaVu Sans Mono',consolas,'Courier New',monospace\"><span style=\"font-weight: bold\">Model: \"sequential_17\"</span>\n",
       "</pre>\n"
      ],
      "text/plain": [
       "\u001b[1mModel: \"sequential_17\"\u001b[0m\n"
      ]
     },
     "metadata": {},
     "output_type": "display_data"
    },
    {
     "data": {
      "text/html": [
       "<pre style=\"white-space:pre;overflow-x:auto;line-height:normal;font-family:Menlo,'DejaVu Sans Mono',consolas,'Courier New',monospace\">┏━━━━━━━━━━━━━━━━━━━━━━━━━━━━━━━━━┳━━━━━━━━━━━━━━━━━━━━━━━━┳━━━━━━━━━━━━━━━┓\n",
       "┃<span style=\"font-weight: bold\"> Layer (type)                    </span>┃<span style=\"font-weight: bold\"> Output Shape           </span>┃<span style=\"font-weight: bold\">       Param # </span>┃\n",
       "┡━━━━━━━━━━━━━━━━━━━━━━━━━━━━━━━━━╇━━━━━━━━━━━━━━━━━━━━━━━━╇━━━━━━━━━━━━━━━┩\n",
       "│ dense_54 (<span style=\"color: #0087ff; text-decoration-color: #0087ff\">Dense</span>)                │ (<span style=\"color: #00d7ff; text-decoration-color: #00d7ff\">None</span>, <span style=\"color: #00af00; text-decoration-color: #00af00\">64</span>)             │         <span style=\"color: #00af00; text-decoration-color: #00af00\">2,304</span> │\n",
       "├─────────────────────────────────┼────────────────────────┼───────────────┤\n",
       "│ dense_55 (<span style=\"color: #0087ff; text-decoration-color: #0087ff\">Dense</span>)                │ (<span style=\"color: #00d7ff; text-decoration-color: #00d7ff\">None</span>, <span style=\"color: #00af00; text-decoration-color: #00af00\">32</span>)             │         <span style=\"color: #00af00; text-decoration-color: #00af00\">2,080</span> │\n",
       "├─────────────────────────────────┼────────────────────────┼───────────────┤\n",
       "│ dense_56 (<span style=\"color: #0087ff; text-decoration-color: #0087ff\">Dense</span>)                │ (<span style=\"color: #00d7ff; text-decoration-color: #00d7ff\">None</span>, <span style=\"color: #00af00; text-decoration-color: #00af00\">1</span>)              │            <span style=\"color: #00af00; text-decoration-color: #00af00\">33</span> │\n",
       "└─────────────────────────────────┴────────────────────────┴───────────────┘\n",
       "</pre>\n"
      ],
      "text/plain": [
       "┏━━━━━━━━━━━━━━━━━━━━━━━━━━━━━━━━━┳━━━━━━━━━━━━━━━━━━━━━━━━┳━━━━━━━━━━━━━━━┓\n",
       "┃\u001b[1m \u001b[0m\u001b[1mLayer (type)                   \u001b[0m\u001b[1m \u001b[0m┃\u001b[1m \u001b[0m\u001b[1mOutput Shape          \u001b[0m\u001b[1m \u001b[0m┃\u001b[1m \u001b[0m\u001b[1m      Param #\u001b[0m\u001b[1m \u001b[0m┃\n",
       "┡━━━━━━━━━━━━━━━━━━━━━━━━━━━━━━━━━╇━━━━━━━━━━━━━━━━━━━━━━━━╇━━━━━━━━━━━━━━━┩\n",
       "│ dense_54 (\u001b[38;5;33mDense\u001b[0m)                │ (\u001b[38;5;45mNone\u001b[0m, \u001b[38;5;34m64\u001b[0m)             │         \u001b[38;5;34m2,304\u001b[0m │\n",
       "├─────────────────────────────────┼────────────────────────┼───────────────┤\n",
       "│ dense_55 (\u001b[38;5;33mDense\u001b[0m)                │ (\u001b[38;5;45mNone\u001b[0m, \u001b[38;5;34m32\u001b[0m)             │         \u001b[38;5;34m2,080\u001b[0m │\n",
       "├─────────────────────────────────┼────────────────────────┼───────────────┤\n",
       "│ dense_56 (\u001b[38;5;33mDense\u001b[0m)                │ (\u001b[38;5;45mNone\u001b[0m, \u001b[38;5;34m1\u001b[0m)              │            \u001b[38;5;34m33\u001b[0m │\n",
       "└─────────────────────────────────┴────────────────────────┴───────────────┘\n"
      ]
     },
     "metadata": {},
     "output_type": "display_data"
    },
    {
     "data": {
      "text/html": [
       "<pre style=\"white-space:pre;overflow-x:auto;line-height:normal;font-family:Menlo,'DejaVu Sans Mono',consolas,'Courier New',monospace\"><span style=\"font-weight: bold\"> Total params: </span><span style=\"color: #00af00; text-decoration-color: #00af00\">4,417</span> (17.25 KB)\n",
       "</pre>\n"
      ],
      "text/plain": [
       "\u001b[1m Total params: \u001b[0m\u001b[38;5;34m4,417\u001b[0m (17.25 KB)\n"
      ]
     },
     "metadata": {},
     "output_type": "display_data"
    },
    {
     "data": {
      "text/html": [
       "<pre style=\"white-space:pre;overflow-x:auto;line-height:normal;font-family:Menlo,'DejaVu Sans Mono',consolas,'Courier New',monospace\"><span style=\"font-weight: bold\"> Trainable params: </span><span style=\"color: #00af00; text-decoration-color: #00af00\">4,417</span> (17.25 KB)\n",
       "</pre>\n"
      ],
      "text/plain": [
       "\u001b[1m Trainable params: \u001b[0m\u001b[38;5;34m4,417\u001b[0m (17.25 KB)\n"
      ]
     },
     "metadata": {},
     "output_type": "display_data"
    },
    {
     "data": {
      "text/html": [
       "<pre style=\"white-space:pre;overflow-x:auto;line-height:normal;font-family:Menlo,'DejaVu Sans Mono',consolas,'Courier New',monospace\"><span style=\"font-weight: bold\"> Non-trainable params: </span><span style=\"color: #00af00; text-decoration-color: #00af00\">0</span> (0.00 B)\n",
       "</pre>\n"
      ],
      "text/plain": [
       "\u001b[1m Non-trainable params: \u001b[0m\u001b[38;5;34m0\u001b[0m (0.00 B)\n"
      ]
     },
     "metadata": {},
     "output_type": "display_data"
    },
    {
     "name": "stdout",
     "output_type": "stream",
     "text": [
      "None\n"
     ]
    }
   ],
   "source": [
    "# Define the FCNN model\n",
    "model_fcnn = Sequential([\n",
    "    Dense(64, activation='relu', input_shape=(X_train.shape[1],)),\n",
    "    Dense(32, activation='relu'),\n",
    "    Dense(1)  # Output layer with a single neuron for regression\n",
    "])\n",
    "\n",
    "print(model_fcnn.summary())\n",
    "\n",
    "# Compile the model\n",
    "model_fcnn.compile(optimizer='adam', loss='mean_squared_error')"
   ]
  },
  {
   "cell_type": "code",
   "execution_count": null,
   "id": "1656c862-f8d6-4b20-994a-a29891c5bbc1",
   "metadata": {},
   "outputs": [
    {
     "name": "stdout",
     "output_type": "stream",
     "text": [
      "Epoch 1/50\n",
      "\u001b[1m209/209\u001b[0m \u001b[32m━━━━━━━━━━━━━━━━━━━━\u001b[0m\u001b[37m\u001b[0m \u001b[1m1s\u001b[0m 927us/step - loss: 1581.2285 - val_loss: 41.7669\n",
      "Epoch 2/50\n",
      "\u001b[1m209/209\u001b[0m \u001b[32m━━━━━━━━━━━━━━━━━━━━\u001b[0m\u001b[37m\u001b[0m \u001b[1m0s\u001b[0m 592us/step - loss: 34.1314 - val_loss: 24.3902\n",
      "Epoch 3/50\n",
      "\u001b[1m209/209\u001b[0m \u001b[32m━━━━━━━━━━━━━━━━━━━━\u001b[0m\u001b[37m\u001b[0m \u001b[1m0s\u001b[0m 643us/step - loss: 20.7658 - val_loss: 13.2690\n",
      "Epoch 4/50\n",
      "\u001b[1m209/209\u001b[0m \u001b[32m━━━━━━━━━━━━━━━━━━━━\u001b[0m\u001b[37m\u001b[0m \u001b[1m0s\u001b[0m 675us/step - loss: 10.9310 - val_loss: 5.1141\n",
      "Epoch 5/50\n",
      "\u001b[1m209/209\u001b[0m \u001b[32m━━━━━━━━━━━━━━━━━━━━\u001b[0m\u001b[37m\u001b[0m \u001b[1m0s\u001b[0m 620us/step - loss: 4.3952 - val_loss: 2.8993\n",
      "Epoch 6/50\n",
      "\u001b[1m209/209\u001b[0m \u001b[32m━━━━━━━━━━━━━━━━━━━━\u001b[0m\u001b[37m\u001b[0m \u001b[1m0s\u001b[0m 580us/step - loss: 2.8580 - val_loss: 2.1835\n",
      "Epoch 7/50\n",
      "\u001b[1m209/209\u001b[0m \u001b[32m━━━━━━━━━━━━━━━━━━━━\u001b[0m\u001b[37m\u001b[0m \u001b[1m0s\u001b[0m 605us/step - loss: 2.1544 - val_loss: 1.9151\n",
      "Epoch 8/50\n",
      "\u001b[1m209/209\u001b[0m \u001b[32m━━━━━━━━━━━━━━━━━━━━\u001b[0m\u001b[37m\u001b[0m \u001b[1m0s\u001b[0m 584us/step - loss: 2.1646 - val_loss: 1.7467\n",
      "Epoch 9/50\n",
      "\u001b[1m209/209\u001b[0m \u001b[32m━━━━━━━━━━━━━━━━━━━━\u001b[0m\u001b[37m\u001b[0m \u001b[1m0s\u001b[0m 560us/step - loss: 1.7156 - val_loss: 1.8933\n",
      "Epoch 10/50\n",
      "\u001b[1m209/209\u001b[0m \u001b[32m━━━━━━━━━━━━━━━━━━━━\u001b[0m\u001b[37m\u001b[0m \u001b[1m0s\u001b[0m 647us/step - loss: 1.6780 - val_loss: 2.1865\n",
      "Epoch 11/50\n",
      "\u001b[1m209/209\u001b[0m \u001b[32m━━━━━━━━━━━━━━━━━━━━\u001b[0m\u001b[37m\u001b[0m \u001b[1m0s\u001b[0m 648us/step - loss: 1.6148 - val_loss: 1.5421\n",
      "Epoch 12/50\n",
      "\u001b[1m209/209\u001b[0m \u001b[32m━━━━━━━━━━━━━━━━━━━━\u001b[0m\u001b[37m\u001b[0m \u001b[1m0s\u001b[0m 577us/step - loss: 1.7116 - val_loss: 2.0289\n",
      "Epoch 13/50\n",
      "\u001b[1m209/209\u001b[0m \u001b[32m━━━━━━━━━━━━━━━━━━━━\u001b[0m\u001b[37m\u001b[0m \u001b[1m0s\u001b[0m 557us/step - loss: 1.7716 - val_loss: 1.6774\n",
      "Epoch 14/50\n",
      "\u001b[1m209/209\u001b[0m \u001b[32m━━━━━━━━━━━━━━━━━━━━\u001b[0m\u001b[37m\u001b[0m \u001b[1m0s\u001b[0m 642us/step - loss: 1.5440 - val_loss: 2.0246\n",
      "Epoch 15/50\n",
      "\u001b[1m209/209\u001b[0m \u001b[32m━━━━━━━━━━━━━━━━━━━━\u001b[0m\u001b[37m\u001b[0m \u001b[1m0s\u001b[0m 589us/step - loss: 1.5403 - val_loss: 1.3217\n",
      "Epoch 16/50\n",
      "\u001b[1m209/209\u001b[0m \u001b[32m━━━━━━━━━━━━━━━━━━━━\u001b[0m\u001b[37m\u001b[0m \u001b[1m0s\u001b[0m 559us/step - loss: 1.2807 - val_loss: 1.3258\n",
      "Epoch 17/50\n",
      "\u001b[1m209/209\u001b[0m \u001b[32m━━━━━━━━━━━━━━━━━━━━\u001b[0m\u001b[37m\u001b[0m \u001b[1m0s\u001b[0m 565us/step - loss: 1.4352 - val_loss: 1.4479\n",
      "Epoch 18/50\n",
      "\u001b[1m209/209\u001b[0m \u001b[32m━━━━━━━━━━━━━━━━━━━━\u001b[0m\u001b[37m\u001b[0m \u001b[1m0s\u001b[0m 606us/step - loss: 1.5743 - val_loss: 1.9108\n",
      "Epoch 19/50\n",
      "\u001b[1m209/209\u001b[0m \u001b[32m━━━━━━━━━━━━━━━━━━━━\u001b[0m\u001b[37m\u001b[0m \u001b[1m0s\u001b[0m 606us/step - loss: 1.4880 - val_loss: 1.5136\n",
      "Epoch 20/50\n",
      "\u001b[1m209/209\u001b[0m \u001b[32m━━━━━━━━━━━━━━━━━━━━\u001b[0m\u001b[37m\u001b[0m \u001b[1m0s\u001b[0m 573us/step - loss: 1.2366 - val_loss: 1.5914\n",
      "FCNN model training complete.\n"
     ]
    }
   ],
   "source": [
    "from tensorflow.keras.callbacks import EarlyStopping, ModelCheckpoint\n",
    "\n",
    "# Set up callbacks\n",
    "early_stopping = EarlyStopping(monitor='val_loss', patience=5, restore_best_weights=True)\n",
    "model_checkpoint = ModelCheckpoint('best_fcnn_model.keras', save_best_only=True, monitor='val_loss')\n",
    "\n",
    "# Train the model\n",
    "history = model_fcnn.fit(\n",
    "    X_train, y_train,\n",
    "    validation_data=(X_test, y_test),\n",
    "    epochs=50,\n",
    "    callbacks=[early_stopping, model_checkpoint],\n",
    "    verbose=1\n",
    ")\n",
    "\n",
    "# Print training completion\n",
    "print(\"FCNN model training complete.\")\n"
   ]
  },
  {
   "cell_type": "markdown",
   "id": "9f977060-e021-4e79-b451-e964fc114dfd",
   "metadata": {},
   "source": [
    "## Evaluate the Model and Plot the Regression Lift Chart"
   ]
  },
  {
   "cell_type": "code",
   "execution_count": 280,
   "id": "5dbf1c05",
   "metadata": {},
   "outputs": [
    {
     "name": "stdout",
     "output_type": "stream",
     "text": [
      "\u001b[1m90/90\u001b[0m \u001b[32m━━━━━━━━━━━━━━━━━━━━\u001b[0m\u001b[37m\u001b[0m \u001b[1m0s\u001b[0m 562us/step\n",
      "Root Mean Square Error (RMSE): 1.1496671687519657\n"
     ]
    }
   ],
   "source": [
    "from sklearn.metrics import mean_squared_error\n",
    "import numpy as np\n",
    "\n",
    "# Predict on the test set\n",
    "y_pred_fcnn = model_fcnn.predict([X_test])\n",
    "\n",
    "# Calculate RMSE\n",
    "rmse = np.sqrt(mean_squared_error(y_test, y_pred_fcnn))\n",
    "print(f\"Root Mean Square Error (RMSE): {rmse}\")"
   ]
  },
  {
   "cell_type": "code",
   "execution_count": 281,
   "id": "78d4dab3-3c29-4728-bb1a-953a19f5f8b9",
   "metadata": {},
   "outputs": [
    {
     "name": "stdout",
     "output_type": "stream",
     "text": [
      "Test RMSE: 1.1496671687519657\n"
     ]
    },
    {
     "data": {
      "image/png": "[encoded data removed]",
      "text/plain": [
       "<Figure size 640x480 with 1 Axes>"
      ]
     },
     "metadata": {},
     "output_type": "display_data"
    }
   ],
   "source": [
    "from sklearn.metrics import mean_squared_error\n",
    "import numpy as np\n",
    "import matplotlib.pyplot as plt\n",
    "\n",
    "# Calculate RMSE\n",
    "rmse = np.sqrt(mean_squared_error(y_test, y_pred_fcnn))\n",
    "print(\"Test RMSE:\", rmse)\n",
    "\n",
    "def chart_regression(pred,y,sort=True):\n",
    "    t = pd.DataFrame({'pred' : pred, 'y' : y})\n",
    "    if sort:\n",
    "        t.sort_values(by=['y'],inplace=True)\n",
    "    a = plt.plot(t['pred'].tolist(),label='prediction')\n",
    "    b = plt.plot(t['y'].tolist(),label='expected')\n",
    "    plt.ylabel('output')\n",
    "    plt.legend()\n",
    "    plt.show()\n",
    "\n",
    "chart_regression(y_pred_fcnn.flatten(), y_test, sort=True)\n"
   ]
  },
  {
   "cell_type": "markdown",
   "id": "1462689a",
   "metadata": {},
   "source": [
    "## Build the Convolutional Neural Network (CNN)"
   ]
  },
  {
   "cell_type": "code",
   "execution_count": 282,
   "id": "13681c5d",
   "metadata": {},
   "outputs": [
    {
     "data": {
      "text/html": [
       "<pre style=\"white-space:pre;overflow-x:auto;line-height:normal;font-family:Menlo,'DejaVu Sans Mono',consolas,'Courier New',monospace\"><span style=\"font-weight: bold\">Model: \"functional_19\"</span>\n",
       "</pre>\n"
      ],
      "text/plain": [
       "\u001b[1mModel: \"functional_19\"\u001b[0m\n"
      ]
     },
     "metadata": {},
     "output_type": "display_data"
    },
    {
     "data": {
      "text/html": [
       "<pre style=\"white-space:pre;overflow-x:auto;line-height:normal;font-family:Menlo,'DejaVu Sans Mono',consolas,'Courier New',monospace\">┏━━━━━━━━━━━━━━━━━━━━━━━━━━━━━━━━━┳━━━━━━━━━━━━━━━━━━━━━━━━┳━━━━━━━━━━━━━━━┓\n",
       "┃<span style=\"font-weight: bold\"> Layer (type)                    </span>┃<span style=\"font-weight: bold\"> Output Shape           </span>┃<span style=\"font-weight: bold\">       Param # </span>┃\n",
       "┡━━━━━━━━━━━━━━━━━━━━━━━━━━━━━━━━━╇━━━━━━━━━━━━━━━━━━━━━━━━╇━━━━━━━━━━━━━━━┩\n",
       "│ input_layer_23 (<span style=\"color: #0087ff; text-decoration-color: #0087ff\">InputLayer</span>)     │ (<span style=\"color: #00d7ff; text-decoration-color: #00d7ff\">None</span>, <span style=\"color: #00af00; text-decoration-color: #00af00\">35</span>, <span style=\"color: #00af00; text-decoration-color: #00af00\">1</span>)          │             <span style=\"color: #00af00; text-decoration-color: #00af00\">0</span> │\n",
       "├─────────────────────────────────┼────────────────────────┼───────────────┤\n",
       "│ conv1d_4 (<span style=\"color: #0087ff; text-decoration-color: #0087ff\">Conv1D</span>)               │ (<span style=\"color: #00d7ff; text-decoration-color: #00d7ff\">None</span>, <span style=\"color: #00af00; text-decoration-color: #00af00\">33</span>, <span style=\"color: #00af00; text-decoration-color: #00af00\">128</span>)        │           <span style=\"color: #00af00; text-decoration-color: #00af00\">512</span> │\n",
       "├─────────────────────────────────┼────────────────────────┼───────────────┤\n",
       "│ max_pooling1d_4 (<span style=\"color: #0087ff; text-decoration-color: #0087ff\">MaxPooling1D</span>)  │ (<span style=\"color: #00d7ff; text-decoration-color: #00d7ff\">None</span>, <span style=\"color: #00af00; text-decoration-color: #00af00\">16</span>, <span style=\"color: #00af00; text-decoration-color: #00af00\">128</span>)        │             <span style=\"color: #00af00; text-decoration-color: #00af00\">0</span> │\n",
       "├─────────────────────────────────┼────────────────────────┼───────────────┤\n",
       "│ conv1d_5 (<span style=\"color: #0087ff; text-decoration-color: #0087ff\">Conv1D</span>)               │ (<span style=\"color: #00d7ff; text-decoration-color: #00d7ff\">None</span>, <span style=\"color: #00af00; text-decoration-color: #00af00\">14</span>, <span style=\"color: #00af00; text-decoration-color: #00af00\">64</span>)         │        <span style=\"color: #00af00; text-decoration-color: #00af00\">24,640</span> │\n",
       "├─────────────────────────────────┼────────────────────────┼───────────────┤\n",
       "│ max_pooling1d_5 (<span style=\"color: #0087ff; text-decoration-color: #0087ff\">MaxPooling1D</span>)  │ (<span style=\"color: #00d7ff; text-decoration-color: #00d7ff\">None</span>, <span style=\"color: #00af00; text-decoration-color: #00af00\">7</span>, <span style=\"color: #00af00; text-decoration-color: #00af00\">64</span>)          │             <span style=\"color: #00af00; text-decoration-color: #00af00\">0</span> │\n",
       "├─────────────────────────────────┼────────────────────────┼───────────────┤\n",
       "│ flatten_1 (<span style=\"color: #0087ff; text-decoration-color: #0087ff\">Flatten</span>)             │ (<span style=\"color: #00d7ff; text-decoration-color: #00d7ff\">None</span>, <span style=\"color: #00af00; text-decoration-color: #00af00\">448</span>)            │             <span style=\"color: #00af00; text-decoration-color: #00af00\">0</span> │\n",
       "├─────────────────────────────────┼────────────────────────┼───────────────┤\n",
       "│ dense_57 (<span style=\"color: #0087ff; text-decoration-color: #0087ff\">Dense</span>)                │ (<span style=\"color: #00d7ff; text-decoration-color: #00d7ff\">None</span>, <span style=\"color: #00af00; text-decoration-color: #00af00\">64</span>)             │        <span style=\"color: #00af00; text-decoration-color: #00af00\">28,736</span> │\n",
       "├─────────────────────────────────┼────────────────────────┼───────────────┤\n",
       "│ dense_58 (<span style=\"color: #0087ff; text-decoration-color: #0087ff\">Dense</span>)                │ (<span style=\"color: #00d7ff; text-decoration-color: #00d7ff\">None</span>, <span style=\"color: #00af00; text-decoration-color: #00af00\">32</span>)             │         <span style=\"color: #00af00; text-decoration-color: #00af00\">2,080</span> │\n",
       "├─────────────────────────────────┼────────────────────────┼───────────────┤\n",
       "│ dense_59 (<span style=\"color: #0087ff; text-decoration-color: #0087ff\">Dense</span>)                │ (<span style=\"color: #00d7ff; text-decoration-color: #00d7ff\">None</span>, <span style=\"color: #00af00; text-decoration-color: #00af00\">1</span>)              │            <span style=\"color: #00af00; text-decoration-color: #00af00\">33</span> │\n",
       "└─────────────────────────────────┴────────────────────────┴───────────────┘\n",
       "</pre>\n"
      ],
      "text/plain": [
       "┏━━━━━━━━━━━━━━━━━━━━━━━━━━━━━━━━━┳━━━━━━━━━━━━━━━━━━━━━━━━┳━━━━━━━━━━━━━━━┓\n",
       "┃\u001b[1m \u001b[0m\u001b[1mLayer (type)                   \u001b[0m\u001b[1m \u001b[0m┃\u001b[1m \u001b[0m\u001b[1mOutput Shape          \u001b[0m\u001b[1m \u001b[0m┃\u001b[1m \u001b[0m\u001b[1m      Param #\u001b[0m\u001b[1m \u001b[0m┃\n",
       "┡━━━━━━━━━━━━━━━━━━━━━━━━━━━━━━━━━╇━━━━━━━━━━━━━━━━━━━━━━━━╇━━━━━━━━━━━━━━━┩\n",
       "│ input_layer_23 (\u001b[38;5;33mInputLayer\u001b[0m)     │ (\u001b[38;5;45mNone\u001b[0m, \u001b[38;5;34m35\u001b[0m, \u001b[38;5;34m1\u001b[0m)          │             \u001b[38;5;34m0\u001b[0m │\n",
       "├─────────────────────────────────┼────────────────────────┼───────────────┤\n",
       "│ conv1d_4 (\u001b[38;5;33mConv1D\u001b[0m)               │ (\u001b[38;5;45mNone\u001b[0m, \u001b[38;5;34m33\u001b[0m, \u001b[38;5;34m128\u001b[0m)        │           \u001b[38;5;34m512\u001b[0m │\n",
       "├─────────────────────────────────┼────────────────────────┼───────────────┤\n",
       "│ max_pooling1d_4 (\u001b[38;5;33mMaxPooling1D\u001b[0m)  │ (\u001b[38;5;45mNone\u001b[0m, \u001b[38;5;34m16\u001b[0m, \u001b[38;5;34m128\u001b[0m)        │             \u001b[38;5;34m0\u001b[0m │\n",
       "├─────────────────────────────────┼────────────────────────┼───────────────┤\n",
       "│ conv1d_5 (\u001b[38;5;33mConv1D\u001b[0m)               │ (\u001b[38;5;45mNone\u001b[0m, \u001b[38;5;34m14\u001b[0m, \u001b[38;5;34m64\u001b[0m)         │        \u001b[38;5;34m24,640\u001b[0m │\n",
       "├─────────────────────────────────┼────────────────────────┼───────────────┤\n",
       "│ max_pooling1d_5 (\u001b[38;5;33mMaxPooling1D\u001b[0m)  │ (\u001b[38;5;45mNone\u001b[0m, \u001b[38;5;34m7\u001b[0m, \u001b[38;5;34m64\u001b[0m)          │             \u001b[38;5;34m0\u001b[0m │\n",
       "├─────────────────────────────────┼────────────────────────┼───────────────┤\n",
       "│ flatten_1 (\u001b[38;5;33mFlatten\u001b[0m)             │ (\u001b[38;5;45mNone\u001b[0m, \u001b[38;5;34m448\u001b[0m)            │             \u001b[38;5;34m0\u001b[0m │\n",
       "├─────────────────────────────────┼────────────────────────┼───────────────┤\n",
       "│ dense_57 (\u001b[38;5;33mDense\u001b[0m)                │ (\u001b[38;5;45mNone\u001b[0m, \u001b[38;5;34m64\u001b[0m)             │        \u001b[38;5;34m28,736\u001b[0m │\n",
       "├─────────────────────────────────┼────────────────────────┼───────────────┤\n",
       "│ dense_58 (\u001b[38;5;33mDense\u001b[0m)                │ (\u001b[38;5;45mNone\u001b[0m, \u001b[38;5;34m32\u001b[0m)             │         \u001b[38;5;34m2,080\u001b[0m │\n",
       "├─────────────────────────────────┼────────────────────────┼───────────────┤\n",
       "│ dense_59 (\u001b[38;5;33mDense\u001b[0m)                │ (\u001b[38;5;45mNone\u001b[0m, \u001b[38;5;34m1\u001b[0m)              │            \u001b[38;5;34m33\u001b[0m │\n",
       "└─────────────────────────────────┴────────────────────────┴───────────────┘\n"
      ]
     },
     "metadata": {},
     "output_type": "display_data"
    },
    {
     "data": {
      "text/html": [
       "<pre style=\"white-space:pre;overflow-x:auto;line-height:normal;font-family:Menlo,'DejaVu Sans Mono',consolas,'Courier New',monospace\"><span style=\"font-weight: bold\"> Total params: </span><span style=\"color: #00af00; text-decoration-color: #00af00\">56,001</span> (218.75 KB)\n",
       "</pre>\n"
      ],
      "text/plain": [
       "\u001b[1m Total params: \u001b[0m\u001b[38;5;34m56,001\u001b[0m (218.75 KB)\n"
      ]
     },
     "metadata": {},
     "output_type": "display_data"
    },
    {
     "data": {
      "text/html": [
       "<pre style=\"white-space:pre;overflow-x:auto;line-height:normal;font-family:Menlo,'DejaVu Sans Mono',consolas,'Courier New',monospace\"><span style=\"font-weight: bold\"> Trainable params: </span><span style=\"color: #00af00; text-decoration-color: #00af00\">56,001</span> (218.75 KB)\n",
       "</pre>\n"
      ],
      "text/plain": [
       "\u001b[1m Trainable params: \u001b[0m\u001b[38;5;34m56,001\u001b[0m (218.75 KB)\n"
      ]
     },
     "metadata": {},
     "output_type": "display_data"
    },
    {
     "data": {
      "text/html": [
       "<pre style=\"white-space:pre;overflow-x:auto;line-height:normal;font-family:Menlo,'DejaVu Sans Mono',consolas,'Courier New',monospace\"><span style=\"font-weight: bold\"> Non-trainable params: </span><span style=\"color: #00af00; text-decoration-color: #00af00\">0</span> (0.00 B)\n",
       "</pre>\n"
      ],
      "text/plain": [
       "\u001b[1m Non-trainable params: \u001b[0m\u001b[38;5;34m0\u001b[0m (0.00 B)\n"
      ]
     },
     "metadata": {},
     "output_type": "display_data"
    },
    {
     "name": "stdout",
     "output_type": "stream",
     "text": [
      "None\n"
     ]
    }
   ],
   "source": [
    "# Define the CNN model\n",
    "\n",
    "from tensorflow.keras.models import Model\n",
    "from tensorflow.keras.layers import Input\n",
    "from tensorflow.keras.layers import Flatten\n",
    "from tensorflow.keras.layers import Conv1D\n",
    "from tensorflow.keras.layers import MaxPooling1D\n",
    "\n",
    "# input model (CNN with images)\n",
    "visible = Input(shape=(35, 1))\n",
    "conv1 = Conv1D(128, kernel_size=3, activation='relu')(visible)\n",
    "pool1 = MaxPooling1D(pool_size=(2))(conv1)\n",
    "conv2 = Conv1D(64, kernel_size=3, activation='relu')(pool1)\n",
    "pool2 = MaxPooling1D(pool_size=(2))(conv2)\n",
    "flat = Flatten()(pool2)\n",
    "\n",
    "# interpretation model\n",
    "dense1 = Dense(64)(flat)\n",
    "dense2 = Dense(32)(dense1)\n",
    "output = Dense(1)(dense2)\n",
    "\n",
    "# model creation\n",
    "model_cnn = Model(inputs=visible, outputs=output)\n",
    "\n",
    "# summarize layers\n",
    "print(model_cnn.summary())\n",
    "\n",
    "# Compile the model\n",
    "model_cnn.compile(optimizer='adam', loss='mean_squared_error')"
   ]
  },
  {
   "cell_type": "code",
   "execution_count": null,
   "id": "6a92d4aa",
   "metadata": {},
   "outputs": [
    {
     "name": "stdout",
     "output_type": "stream",
     "text": [
      "Epoch 1/50\n",
      "\u001b[1m209/209\u001b[0m \u001b[32m━━━━━━━━━━━━━━━━━━━━\u001b[0m\u001b[37m\u001b[0m \u001b[1m1s\u001b[0m 2ms/step - loss: 677.9431 - val_loss: 4.7114\n",
      "Epoch 2/50\n",
      "\u001b[1m209/209\u001b[0m \u001b[32m━━━━━━━━━━━━━━━━━━━━\u001b[0m\u001b[37m\u001b[0m \u001b[1m0s\u001b[0m 2ms/step - loss: 4.0259 - val_loss: 3.2822\n",
      "Epoch 3/50\n",
      "\u001b[1m209/209\u001b[0m \u001b[32m━━━━━━━━━━━━━━━━━━━━\u001b[0m\u001b[37m\u001b[0m \u001b[1m0s\u001b[0m 2ms/step - loss: 3.3221 - val_loss: 2.5802\n",
      "Epoch 4/50\n",
      "\u001b[1m209/209\u001b[0m \u001b[32m━━━━━━━━━━━━━━━━━━━━\u001b[0m\u001b[37m\u001b[0m \u001b[1m0s\u001b[0m 2ms/step - loss: 3.3209 - val_loss: 7.6776\n",
      "Epoch 5/50\n",
      "\u001b[1m209/209\u001b[0m \u001b[32m━━━━━━━━━━━━━━━━━━━━\u001b[0m\u001b[37m\u001b[0m \u001b[1m0s\u001b[0m 2ms/step - loss: 4.5055 - val_loss: 2.3480\n",
      "Epoch 6/50\n",
      "\u001b[1m209/209\u001b[0m \u001b[32m━━━━━━━━━━━━━━━━━━━━\u001b[0m\u001b[37m\u001b[0m \u001b[1m0s\u001b[0m 2ms/step - loss: 5.4343 - val_loss: 3.9809\n",
      "Epoch 7/50\n",
      "\u001b[1m209/209\u001b[0m \u001b[32m━━━━━━━━━━━━━━━━━━━━\u001b[0m\u001b[37m\u001b[0m \u001b[1m0s\u001b[0m 2ms/step - loss: 4.6896 - val_loss: 3.5451\n",
      "Epoch 8/50\n",
      "\u001b[1m209/209\u001b[0m \u001b[32m━━━━━━━━━━━━━━━━━━━━\u001b[0m\u001b[37m\u001b[0m \u001b[1m0s\u001b[0m 2ms/step - loss: 4.6270 - val_loss: 2.4449\n",
      "Epoch 9/50\n",
      "\u001b[1m209/209\u001b[0m \u001b[32m━━━━━━━━━━━━━━━━━━━━\u001b[0m\u001b[37m\u001b[0m \u001b[1m0s\u001b[0m 2ms/step - loss: 3.4366 - val_loss: 3.0225\n",
      "Epoch 10/50\n",
      "\u001b[1m209/209\u001b[0m \u001b[32m━━━━━━━━━━━━━━━━━━━━\u001b[0m\u001b[37m\u001b[0m \u001b[1m0s\u001b[0m 2ms/step - loss: 3.0959 - val_loss: 1.9901\n",
      "Epoch 11/50\n",
      "\u001b[1m209/209\u001b[0m \u001b[32m━━━━━━━━━━━━━━━━━━━━\u001b[0m\u001b[37m\u001b[0m \u001b[1m0s\u001b[0m 2ms/step - loss: 2.8495 - val_loss: 3.1125\n",
      "Epoch 12/50\n",
      "\u001b[1m209/209\u001b[0m \u001b[32m━━━━━━━━━━━━━━━━━━━━\u001b[0m\u001b[37m\u001b[0m \u001b[1m0s\u001b[0m 2ms/step - loss: 3.6310 - val_loss: 2.1242\n",
      "Epoch 13/50\n",
      "\u001b[1m209/209\u001b[0m \u001b[32m━━━━━━━━━━━━━━━━━━━━\u001b[0m\u001b[37m\u001b[0m \u001b[1m0s\u001b[0m 2ms/step - loss: 2.3876 - val_loss: 2.3444\n",
      "Epoch 14/50\n",
      "\u001b[1m209/209\u001b[0m \u001b[32m━━━━━━━━━━━━━━━━━━━━\u001b[0m\u001b[37m\u001b[0m \u001b[1m0s\u001b[0m 2ms/step - loss: 3.1288 - val_loss: 6.6187\n",
      "Epoch 15/50\n",
      "\u001b[1m209/209\u001b[0m \u001b[32m━━━━━━━━━━━━━━━━━━━━\u001b[0m\u001b[37m\u001b[0m \u001b[1m0s\u001b[0m 2ms/step - loss: 3.3878 - val_loss: 6.0879\n",
      "CNN model training complete.\n"
     ]
    }
   ],
   "source": [
    "# Set up callbacks\n",
    "early_stopping = EarlyStopping(monitor='val_loss', patience=5, restore_best_weights=True)\n",
    "model_checkpoint = ModelCheckpoint('best_cnn_model.keras', save_best_only=True, monitor='val_loss')\n",
    "\n",
    "# Train the model\n",
    "history = model_cnn.fit(\n",
    "    X_train, y_train,\n",
    "    validation_data=(X_test, y_test),\n",
    "    epochs=50,\n",
    "    callbacks=[early_stopping, model_checkpoint],\n",
    "    verbose=1\n",
    ")\n",
    "\n",
    "# Print training completion\n",
    "print(\"CNN model training complete.\")\n"
   ]
  },
  {
   "cell_type": "code",
   "execution_count": 284,
   "id": "bc8f3fec",
   "metadata": {},
   "outputs": [
    {
     "name": "stdout",
     "output_type": "stream",
     "text": [
      "\u001b[1m90/90\u001b[0m \u001b[32m━━━━━━━━━━━━━━━━━━━━\u001b[0m\u001b[37m\u001b[0m \u001b[1m0s\u001b[0m 1ms/step\n",
      "Root Mean Square Error (RMSE): 1.4107106337250495\n"
     ]
    }
   ],
   "source": [
    "from sklearn.metrics import mean_squared_error\n",
    "import numpy as np\n",
    "\n",
    "# Predict on the test set\n",
    "y_pred_cnn = model_cnn.predict([X_test])\n",
    "\n",
    "# Calculate RMSE\n",
    "rmse = np.sqrt(mean_squared_error(y_test, y_pred_cnn))\n",
    "print(f\"Root Mean Square Error (RMSE): {rmse}\")"
   ]
  },
  {
   "cell_type": "code",
   "execution_count": 285,
   "id": "b9d47166",
   "metadata": {},
   "outputs": [
    {
     "name": "stdout",
     "output_type": "stream",
     "text": [
      "Test RMSE: 1.4107106337250495\n"
     ]
    },
    {
     "data": {
      "image/png": "[encoded data removed]",
      "text/plain": [
       "<Figure size 640x480 with 1 Axes>"
      ]
     },
     "metadata": {},
     "output_type": "display_data"
    }
   ],
   "source": [
    "from sklearn.metrics import mean_squared_error\n",
    "import numpy as np\n",
    "import matplotlib.pyplot as plt\n",
    "\n",
    "# Calculate RMSE\n",
    "rmse = np.sqrt(mean_squared_error(y_test, y_pred_cnn))\n",
    "print(\"Test RMSE:\", rmse)\n",
    "\n",
    "def chart_regression(pred,y,sort=True):\n",
    "    t = pd.DataFrame({'pred' : pred, 'y' : y})\n",
    "    if sort:\n",
    "        t.sort_values(by=['y'],inplace=True)\n",
    "    a = plt.plot(t['pred'].tolist(),label='prediction')\n",
    "    b = plt.plot(t['y'].tolist(),label='expected')\n",
    "    plt.ylabel('output')\n",
    "    plt.legend()\n",
    "    plt.show()\n",
    "\n",
    "chart_regression(y_pred_cnn.flatten(), y_test, sort=True)"
   ]
  },
  {
   "cell_type": "markdown",
   "id": "18284443",
   "metadata": {},
   "source": [
    "## Build the Long Short-Term Memory Model (LSTM)"
   ]
  },
  {
   "cell_type": "code",
   "execution_count": null,
   "id": "658e25d5",
   "metadata": {},
   "outputs": [],
   "source": []
  }
 ],
 "metadata": {
  "kernelspec": {
   "display_name": "base",
   "language": "python",
   "name": "python3"
  },
  "language_info": {
   "codemirror_mode": {
    "name": "ipython",
    "version": 3
   },
   "file_extension": ".py",
   "mimetype": "text/x-python",
   "name": "python",
   "nbconvert_exporter": "python",
   "pygments_lexer": "ipython3",
   "version": "3.12.4"
  }
 },
 "nbformat": 4,
 "nbformat_minor": 5
}
