{
 "cells": [
  {
   "cell_type": "markdown",
   "id": "ec575970-aefa-472b-ad80-c053eb8c9c64",
   "metadata": {},
   "source": [
    "# Dataset Preparation "
   ]
  },
  {
   "cell_type": "code",
   "execution_count": 6,
   "id": "ab219583-9a83-4a42-ab9e-8bcf1457c7f9",
   "metadata": {},
   "outputs": [
    {
     "name": "stdout",
     "output_type": "stream",
     "text": [
      "./AAPL.csv\n",
      "         Date      Open      High       Low     Close  Adj Close       Volume\n",
      "0  1980-12-12  0.513393  0.515625  0.513393  0.513393   0.023186  117258400.0\n",
      "1  1980-12-15  0.488839  0.488839  0.486607  0.486607   0.021977   43971200.0\n",
      "2  1980-12-16  0.453125  0.453125  0.450893  0.450893   0.020364   26432000.0\n",
      "3  1980-12-17  0.462054  0.464286  0.462054  0.462054   0.020868   21610400.0\n",
      "4  1980-12-18  0.475446  0.477679  0.475446  0.475446   0.021473   18362400.0\n"
     ]
    }
   ],
   "source": [
    "\n",
    "import csv\n",
    "import pandas as pd\n",
    "\n",
    "#load data\n",
    "AAPL_path = \"./AAPL.csv\"\n",
    "\n",
    "df = pd.read_csv(AAPL_path)\n",
    "\n",
    "\n",
    "print(AAPL_path)\n",
    "print(df.head())\n",
    "\n",
    "\n"
   ]
  },
  {
   "cell_type": "code",
   "execution_count": 13,
   "id": "413f3261-9135-46cd-a382-1f1932d286a8",
   "metadata": {},
   "outputs": [
    {
     "name": "stdout",
     "output_type": "stream",
     "text": [
      "       Open      High       Low     Close       Volume\n",
      "0  0.513393  0.515625  0.513393  0.513393  117258400.0\n",
      "1  0.488839  0.488839  0.486607  0.486607   43971200.0\n",
      "2  0.453125  0.453125  0.450893  0.450893   26432000.0\n",
      "3  0.462054  0.464286  0.462054  0.462054   21610400.0\n",
      "4  0.475446  0.477679  0.475446  0.475446   18362400.0\n"
     ]
    }
   ],
   "source": [
    "# filter out dropping Date and Adj Close \n",
    "\n",
    "df_filtered = df.drop(columns=['Date', 'Adj Close'])\n",
    "print(df_filtered.head())"
   ]
  },
  {
   "cell_type": "markdown",
   "id": "ff05719d-7149-4c9c-951c-94e381216d43",
   "metadata": {},
   "source": [
    "## 70% Training datat and 30 % test Date"
   ]
  },
  {
   "cell_type": "code",
   "execution_count": 22,
   "id": "29e0ed58-f67b-42c6-a01f-dfdd1762a6e8",
   "metadata": {},
   "outputs": [
    {
     "name": "stdout",
     "output_type": "stream",
     "text": [
      "X_date_train shape: (6689, 4)\n",
      "X_data_test shape:  (2867, 4)\n",
      "Y_data_train shape:  (6689,)\n",
      "Y_data_test shape:  (2867,)\n"
     ]
    }
   ],
   "source": [
    "from sklearn.model_selection import train_test_split\n",
    "\n",
    "X_data = df_filtered[['Open', 'High', 'Low', 'Volume']]\n",
    "\n",
    "# Y_data represents the stock closing price\n",
    "Y_data = df_filtered['Close']\n",
    "\n",
    "# split the date into train 70% and test 30 %\n",
    "X_data_train, X_data_test, Y_data_train, Y_data_test = train_test_split(X_data, Y_data, test_size = 0.3, random_state = 42) \n",
    "\n",
    "print(\"X_date_train shape:\", X_data_train.shape)\n",
    "print(\"X_data_test shape: \", X_data_test.shape)\n",
    "print(\"Y_data_train shape: \", Y_data_train.shape)\n",
    "print(\"Y_data_test shape: \", Y_data_test.shape)\n"
   ]
  },
  {
   "cell_type": "markdown",
   "id": "c6cf9470-655b-4551-b9d5-92c05ae1aa3b",
   "metadata": {},
   "source": [
    "## Normalizing the input features"
   ]
  },
  {
   "cell_type": "code",
   "execution_count": null,
   "id": "2f6bac8f-e9d8-4fd8-b918-72878a007f34",
   "metadata": {},
   "outputs": [],
   "source": []
  },
  {
   "cell_type": "code",
   "execution_count": 38,
   "id": "efe7c01c-ff49-45b1-b3e3-91826f59fbcb",
   "metadata": {},
   "outputs": [
    {
     "name": "stdout",
     "output_type": "stream",
     "text": [
      "         Date      Open      High       Low     Close  Adj Close    Volume\n",
      "0  1980-12-12 -0.547694 -0.548386 -0.546699  0.513393   0.023186  0.339544\n",
      "1  1980-12-15 -0.548228 -0.548964 -0.547287  0.486607   0.021977 -0.503910\n",
      "2  1980-12-16 -0.549006 -0.549735 -0.548071  0.450893   0.020364 -0.705767\n",
      "3  1980-12-17 -0.548811 -0.549494 -0.547826  0.462054   0.020868 -0.761258\n",
      "4  1980-12-18 -0.548520 -0.549205 -0.547532  0.475446   0.021473 -0.798639\n"
     ]
    }
   ],
   "source": [
    "from scipy.stats import zscore\n",
    "\n",
    "df = pd.read_csv(AAPL_path, na_values=['NA', \"?\"])\n",
    "\n",
    "z_columns = ['Open', 'High', 'Low', 'Volume']\n",
    "#remove rows with NaN values\n",
    "df.dropna(inplace =True)\n",
    "\n",
    "df[z_columns] = df[z_columns].apply(zscore)\n",
    "\n",
    "print(df.head())\n",
    "\n"
   ]
  },
  {
   "cell_type": "code",
   "execution_count": null,
   "id": "1656c862-f8d6-4b20-994a-a29891c5bbc1",
   "metadata": {},
   "outputs": [],
   "source": []
  }
 ],
 "metadata": {
  "kernelspec": {
   "display_name": "Python 3 (ipykernel)",
   "language": "python",
   "name": "python3"
  },
  "language_info": {
   "codemirror_mode": {
    "name": "ipython",
    "version": 3
   },
   "file_extension": ".py",
   "mimetype": "text/x-python",
   "name": "python",
   "nbconvert_exporter": "python",
   "pygments_lexer": "ipython3",
   "version": "3.12.4"
  }
 },
 "nbformat": 4,
 "nbformat_minor": 5
}
